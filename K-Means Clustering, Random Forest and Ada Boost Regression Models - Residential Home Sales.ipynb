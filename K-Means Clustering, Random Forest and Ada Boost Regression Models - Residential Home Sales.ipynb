{
 "cells": [
  {
   "cell_type": "markdown",
   "id": "b0a02612",
   "metadata": {},
   "source": [
    "# Residential Home Sales\n",
    "### K-Means Clustering, Random Forest Regression, and Ada Boost Regression Models"
   ]
  },
  {
   "cell_type": "markdown",
   "id": "3b022b18",
   "metadata": {},
   "source": [
    "All residential home sales in Ames, Iowa between 2006 and 2010. The data set contains many explanatory variables on the quality and quantity of physical attributes of residential homes in Iowa sold between 2006 and 2010. Most of the variables describe information a typical home buyer would like to know about a property (square footage, number of bedrooms and bathrooms, size of lot, etc.)."
   ]
  },
  {
   "cell_type": "markdown",
   "id": "c900bc48",
   "metadata": {},
   "source": [
    "Data Souce: https://www.openintro.org/book/statdata/index.php?data=ames"
   ]
  },
  {
   "cell_type": "markdown",
   "id": "647d365b",
   "metadata": {},
   "source": [
    "## Import libraries"
   ]
  },
  {
   "cell_type": "code",
   "execution_count": 531,
   "id": "11d6d05f",
   "metadata": {},
   "outputs": [],
   "source": [
    "import pandas as pd\n",
    "import numpy as np\n",
    "import matplotlib.pyplot as plt\n",
    "%matplotlib inline\n",
    "import seaborn as sns\n",
    "plt.style.use(\"ggplot\") \n",
    "\n",
    "pd.set_option('display.max_columns', None)\n",
    "pd.set_option('display.max_colwidth', None)"
   ]
  },
  {
   "cell_type": "markdown",
   "id": "dea3183d",
   "metadata": {},
   "source": [
    "## Import csv data into dataframe "
   ]
  },
  {
   "cell_type": "code",
   "execution_count": 532,
   "id": "72d0f278",
   "metadata": {},
   "outputs": [],
   "source": [
    "df = pd.read_csv(\"ames.csv\")"
   ]
  },
  {
   "cell_type": "code",
   "execution_count": 533,
   "id": "da15ba9b",
   "metadata": {},
   "outputs": [
    {
     "data": {
      "text/html": [
       "<div>\n",
       "<style scoped>\n",
       "    .dataframe tbody tr th:only-of-type {\n",
       "        vertical-align: middle;\n",
       "    }\n",
       "\n",
       "    .dataframe tbody tr th {\n",
       "        vertical-align: top;\n",
       "    }\n",
       "\n",
       "    .dataframe thead th {\n",
       "        text-align: right;\n",
       "    }\n",
       "</style>\n",
       "<table border=\"1\" class=\"dataframe\">\n",
       "  <thead>\n",
       "    <tr style=\"text-align: right;\">\n",
       "      <th></th>\n",
       "      <th>Order</th>\n",
       "      <th>PID</th>\n",
       "      <th>MS.SubClass</th>\n",
       "      <th>MS.Zoning</th>\n",
       "      <th>Lot.Frontage</th>\n",
       "      <th>Lot.Area</th>\n",
       "      <th>Street</th>\n",
       "      <th>Alley</th>\n",
       "      <th>Lot.Shape</th>\n",
       "      <th>Land.Contour</th>\n",
       "      <th>Utilities</th>\n",
       "      <th>Lot.Config</th>\n",
       "      <th>Land.Slope</th>\n",
       "      <th>Neighborhood</th>\n",
       "      <th>Condition.1</th>\n",
       "      <th>Condition.2</th>\n",
       "      <th>Bldg.Type</th>\n",
       "      <th>House.Style</th>\n",
       "      <th>Overall.Qual</th>\n",
       "      <th>Overall.Cond</th>\n",
       "      <th>Year.Built</th>\n",
       "      <th>Year.Remod.Add</th>\n",
       "      <th>Roof.Style</th>\n",
       "      <th>Roof.Matl</th>\n",
       "      <th>Exterior.1st</th>\n",
       "      <th>Exterior.2nd</th>\n",
       "      <th>Mas.Vnr.Type</th>\n",
       "      <th>Mas.Vnr.Area</th>\n",
       "      <th>Exter.Qual</th>\n",
       "      <th>Exter.Cond</th>\n",
       "      <th>Foundation</th>\n",
       "      <th>Bsmt.Qual</th>\n",
       "      <th>Bsmt.Cond</th>\n",
       "      <th>Bsmt.Exposure</th>\n",
       "      <th>BsmtFin.Type.1</th>\n",
       "      <th>BsmtFin.SF.1</th>\n",
       "      <th>BsmtFin.Type.2</th>\n",
       "      <th>BsmtFin.SF.2</th>\n",
       "      <th>Bsmt.Unf.SF</th>\n",
       "      <th>Total.Bsmt.SF</th>\n",
       "      <th>Heating</th>\n",
       "      <th>Heating.QC</th>\n",
       "      <th>Central.Air</th>\n",
       "      <th>Electrical</th>\n",
       "      <th>X1st.Flr.SF</th>\n",
       "      <th>X2nd.Flr.SF</th>\n",
       "      <th>Low.Qual.Fin.SF</th>\n",
       "      <th>Gr.Liv.Area</th>\n",
       "      <th>Bsmt.Full.Bath</th>\n",
       "      <th>Bsmt.Half.Bath</th>\n",
       "      <th>Full.Bath</th>\n",
       "      <th>Half.Bath</th>\n",
       "      <th>Bedroom.AbvGr</th>\n",
       "      <th>Kitchen.AbvGr</th>\n",
       "      <th>Kitchen.Qual</th>\n",
       "      <th>TotRms.AbvGrd</th>\n",
       "      <th>Functional</th>\n",
       "      <th>Fireplaces</th>\n",
       "      <th>Fireplace.Qu</th>\n",
       "      <th>Garage.Type</th>\n",
       "      <th>Garage.Yr.Blt</th>\n",
       "      <th>Garage.Finish</th>\n",
       "      <th>Garage.Cars</th>\n",
       "      <th>Garage.Area</th>\n",
       "      <th>Garage.Qual</th>\n",
       "      <th>Garage.Cond</th>\n",
       "      <th>Paved.Drive</th>\n",
       "      <th>Wood.Deck.SF</th>\n",
       "      <th>Open.Porch.SF</th>\n",
       "      <th>Enclosed.Porch</th>\n",
       "      <th>X3Ssn.Porch</th>\n",
       "      <th>Screen.Porch</th>\n",
       "      <th>Pool.Area</th>\n",
       "      <th>Pool.QC</th>\n",
       "      <th>Fence</th>\n",
       "      <th>Misc.Feature</th>\n",
       "      <th>Misc.Val</th>\n",
       "      <th>Mo.Sold</th>\n",
       "      <th>Yr.Sold</th>\n",
       "      <th>Sale.Type</th>\n",
       "      <th>Sale.Condition</th>\n",
       "      <th>SalePrice</th>\n",
       "    </tr>\n",
       "  </thead>\n",
       "  <tbody>\n",
       "    <tr>\n",
       "      <th>0</th>\n",
       "      <td>1</td>\n",
       "      <td>526301100</td>\n",
       "      <td>20</td>\n",
       "      <td>RL</td>\n",
       "      <td>141.0</td>\n",
       "      <td>31770</td>\n",
       "      <td>Pave</td>\n",
       "      <td>NaN</td>\n",
       "      <td>IR1</td>\n",
       "      <td>Lvl</td>\n",
       "      <td>AllPub</td>\n",
       "      <td>Corner</td>\n",
       "      <td>Gtl</td>\n",
       "      <td>NAmes</td>\n",
       "      <td>Norm</td>\n",
       "      <td>Norm</td>\n",
       "      <td>1Fam</td>\n",
       "      <td>1Story</td>\n",
       "      <td>6</td>\n",
       "      <td>5</td>\n",
       "      <td>1960</td>\n",
       "      <td>1960</td>\n",
       "      <td>Hip</td>\n",
       "      <td>CompShg</td>\n",
       "      <td>BrkFace</td>\n",
       "      <td>Plywood</td>\n",
       "      <td>Stone</td>\n",
       "      <td>112.0</td>\n",
       "      <td>TA</td>\n",
       "      <td>TA</td>\n",
       "      <td>CBlock</td>\n",
       "      <td>TA</td>\n",
       "      <td>Gd</td>\n",
       "      <td>Gd</td>\n",
       "      <td>BLQ</td>\n",
       "      <td>639.0</td>\n",
       "      <td>Unf</td>\n",
       "      <td>0.0</td>\n",
       "      <td>441.0</td>\n",
       "      <td>1080.0</td>\n",
       "      <td>GasA</td>\n",
       "      <td>Fa</td>\n",
       "      <td>Y</td>\n",
       "      <td>SBrkr</td>\n",
       "      <td>1656</td>\n",
       "      <td>0</td>\n",
       "      <td>0</td>\n",
       "      <td>1656</td>\n",
       "      <td>1.0</td>\n",
       "      <td>0.0</td>\n",
       "      <td>1</td>\n",
       "      <td>0</td>\n",
       "      <td>3</td>\n",
       "      <td>1</td>\n",
       "      <td>TA</td>\n",
       "      <td>7</td>\n",
       "      <td>Typ</td>\n",
       "      <td>2</td>\n",
       "      <td>Gd</td>\n",
       "      <td>Attchd</td>\n",
       "      <td>1960.0</td>\n",
       "      <td>Fin</td>\n",
       "      <td>2.0</td>\n",
       "      <td>528.0</td>\n",
       "      <td>TA</td>\n",
       "      <td>TA</td>\n",
       "      <td>P</td>\n",
       "      <td>210</td>\n",
       "      <td>62</td>\n",
       "      <td>0</td>\n",
       "      <td>0</td>\n",
       "      <td>0</td>\n",
       "      <td>0</td>\n",
       "      <td>NaN</td>\n",
       "      <td>NaN</td>\n",
       "      <td>NaN</td>\n",
       "      <td>0</td>\n",
       "      <td>5</td>\n",
       "      <td>2010</td>\n",
       "      <td>WD</td>\n",
       "      <td>Normal</td>\n",
       "      <td>215000</td>\n",
       "    </tr>\n",
       "    <tr>\n",
       "      <th>1</th>\n",
       "      <td>2</td>\n",
       "      <td>526350040</td>\n",
       "      <td>20</td>\n",
       "      <td>RH</td>\n",
       "      <td>80.0</td>\n",
       "      <td>11622</td>\n",
       "      <td>Pave</td>\n",
       "      <td>NaN</td>\n",
       "      <td>Reg</td>\n",
       "      <td>Lvl</td>\n",
       "      <td>AllPub</td>\n",
       "      <td>Inside</td>\n",
       "      <td>Gtl</td>\n",
       "      <td>NAmes</td>\n",
       "      <td>Feedr</td>\n",
       "      <td>Norm</td>\n",
       "      <td>1Fam</td>\n",
       "      <td>1Story</td>\n",
       "      <td>5</td>\n",
       "      <td>6</td>\n",
       "      <td>1961</td>\n",
       "      <td>1961</td>\n",
       "      <td>Gable</td>\n",
       "      <td>CompShg</td>\n",
       "      <td>VinylSd</td>\n",
       "      <td>VinylSd</td>\n",
       "      <td>None</td>\n",
       "      <td>0.0</td>\n",
       "      <td>TA</td>\n",
       "      <td>TA</td>\n",
       "      <td>CBlock</td>\n",
       "      <td>TA</td>\n",
       "      <td>TA</td>\n",
       "      <td>No</td>\n",
       "      <td>Rec</td>\n",
       "      <td>468.0</td>\n",
       "      <td>LwQ</td>\n",
       "      <td>144.0</td>\n",
       "      <td>270.0</td>\n",
       "      <td>882.0</td>\n",
       "      <td>GasA</td>\n",
       "      <td>TA</td>\n",
       "      <td>Y</td>\n",
       "      <td>SBrkr</td>\n",
       "      <td>896</td>\n",
       "      <td>0</td>\n",
       "      <td>0</td>\n",
       "      <td>896</td>\n",
       "      <td>0.0</td>\n",
       "      <td>0.0</td>\n",
       "      <td>1</td>\n",
       "      <td>0</td>\n",
       "      <td>2</td>\n",
       "      <td>1</td>\n",
       "      <td>TA</td>\n",
       "      <td>5</td>\n",
       "      <td>Typ</td>\n",
       "      <td>0</td>\n",
       "      <td>NaN</td>\n",
       "      <td>Attchd</td>\n",
       "      <td>1961.0</td>\n",
       "      <td>Unf</td>\n",
       "      <td>1.0</td>\n",
       "      <td>730.0</td>\n",
       "      <td>TA</td>\n",
       "      <td>TA</td>\n",
       "      <td>Y</td>\n",
       "      <td>140</td>\n",
       "      <td>0</td>\n",
       "      <td>0</td>\n",
       "      <td>0</td>\n",
       "      <td>120</td>\n",
       "      <td>0</td>\n",
       "      <td>NaN</td>\n",
       "      <td>MnPrv</td>\n",
       "      <td>NaN</td>\n",
       "      <td>0</td>\n",
       "      <td>6</td>\n",
       "      <td>2010</td>\n",
       "      <td>WD</td>\n",
       "      <td>Normal</td>\n",
       "      <td>105000</td>\n",
       "    </tr>\n",
       "    <tr>\n",
       "      <th>2</th>\n",
       "      <td>3</td>\n",
       "      <td>526351010</td>\n",
       "      <td>20</td>\n",
       "      <td>RL</td>\n",
       "      <td>81.0</td>\n",
       "      <td>14267</td>\n",
       "      <td>Pave</td>\n",
       "      <td>NaN</td>\n",
       "      <td>IR1</td>\n",
       "      <td>Lvl</td>\n",
       "      <td>AllPub</td>\n",
       "      <td>Corner</td>\n",
       "      <td>Gtl</td>\n",
       "      <td>NAmes</td>\n",
       "      <td>Norm</td>\n",
       "      <td>Norm</td>\n",
       "      <td>1Fam</td>\n",
       "      <td>1Story</td>\n",
       "      <td>6</td>\n",
       "      <td>6</td>\n",
       "      <td>1958</td>\n",
       "      <td>1958</td>\n",
       "      <td>Hip</td>\n",
       "      <td>CompShg</td>\n",
       "      <td>Wd Sdng</td>\n",
       "      <td>Wd Sdng</td>\n",
       "      <td>BrkFace</td>\n",
       "      <td>108.0</td>\n",
       "      <td>TA</td>\n",
       "      <td>TA</td>\n",
       "      <td>CBlock</td>\n",
       "      <td>TA</td>\n",
       "      <td>TA</td>\n",
       "      <td>No</td>\n",
       "      <td>ALQ</td>\n",
       "      <td>923.0</td>\n",
       "      <td>Unf</td>\n",
       "      <td>0.0</td>\n",
       "      <td>406.0</td>\n",
       "      <td>1329.0</td>\n",
       "      <td>GasA</td>\n",
       "      <td>TA</td>\n",
       "      <td>Y</td>\n",
       "      <td>SBrkr</td>\n",
       "      <td>1329</td>\n",
       "      <td>0</td>\n",
       "      <td>0</td>\n",
       "      <td>1329</td>\n",
       "      <td>0.0</td>\n",
       "      <td>0.0</td>\n",
       "      <td>1</td>\n",
       "      <td>1</td>\n",
       "      <td>3</td>\n",
       "      <td>1</td>\n",
       "      <td>Gd</td>\n",
       "      <td>6</td>\n",
       "      <td>Typ</td>\n",
       "      <td>0</td>\n",
       "      <td>NaN</td>\n",
       "      <td>Attchd</td>\n",
       "      <td>1958.0</td>\n",
       "      <td>Unf</td>\n",
       "      <td>1.0</td>\n",
       "      <td>312.0</td>\n",
       "      <td>TA</td>\n",
       "      <td>TA</td>\n",
       "      <td>Y</td>\n",
       "      <td>393</td>\n",
       "      <td>36</td>\n",
       "      <td>0</td>\n",
       "      <td>0</td>\n",
       "      <td>0</td>\n",
       "      <td>0</td>\n",
       "      <td>NaN</td>\n",
       "      <td>NaN</td>\n",
       "      <td>Gar2</td>\n",
       "      <td>12500</td>\n",
       "      <td>6</td>\n",
       "      <td>2010</td>\n",
       "      <td>WD</td>\n",
       "      <td>Normal</td>\n",
       "      <td>172000</td>\n",
       "    </tr>\n",
       "    <tr>\n",
       "      <th>3</th>\n",
       "      <td>4</td>\n",
       "      <td>526353030</td>\n",
       "      <td>20</td>\n",
       "      <td>RL</td>\n",
       "      <td>93.0</td>\n",
       "      <td>11160</td>\n",
       "      <td>Pave</td>\n",
       "      <td>NaN</td>\n",
       "      <td>Reg</td>\n",
       "      <td>Lvl</td>\n",
       "      <td>AllPub</td>\n",
       "      <td>Corner</td>\n",
       "      <td>Gtl</td>\n",
       "      <td>NAmes</td>\n",
       "      <td>Norm</td>\n",
       "      <td>Norm</td>\n",
       "      <td>1Fam</td>\n",
       "      <td>1Story</td>\n",
       "      <td>7</td>\n",
       "      <td>5</td>\n",
       "      <td>1968</td>\n",
       "      <td>1968</td>\n",
       "      <td>Hip</td>\n",
       "      <td>CompShg</td>\n",
       "      <td>BrkFace</td>\n",
       "      <td>BrkFace</td>\n",
       "      <td>None</td>\n",
       "      <td>0.0</td>\n",
       "      <td>Gd</td>\n",
       "      <td>TA</td>\n",
       "      <td>CBlock</td>\n",
       "      <td>TA</td>\n",
       "      <td>TA</td>\n",
       "      <td>No</td>\n",
       "      <td>ALQ</td>\n",
       "      <td>1065.0</td>\n",
       "      <td>Unf</td>\n",
       "      <td>0.0</td>\n",
       "      <td>1045.0</td>\n",
       "      <td>2110.0</td>\n",
       "      <td>GasA</td>\n",
       "      <td>Ex</td>\n",
       "      <td>Y</td>\n",
       "      <td>SBrkr</td>\n",
       "      <td>2110</td>\n",
       "      <td>0</td>\n",
       "      <td>0</td>\n",
       "      <td>2110</td>\n",
       "      <td>1.0</td>\n",
       "      <td>0.0</td>\n",
       "      <td>2</td>\n",
       "      <td>1</td>\n",
       "      <td>3</td>\n",
       "      <td>1</td>\n",
       "      <td>Ex</td>\n",
       "      <td>8</td>\n",
       "      <td>Typ</td>\n",
       "      <td>2</td>\n",
       "      <td>TA</td>\n",
       "      <td>Attchd</td>\n",
       "      <td>1968.0</td>\n",
       "      <td>Fin</td>\n",
       "      <td>2.0</td>\n",
       "      <td>522.0</td>\n",
       "      <td>TA</td>\n",
       "      <td>TA</td>\n",
       "      <td>Y</td>\n",
       "      <td>0</td>\n",
       "      <td>0</td>\n",
       "      <td>0</td>\n",
       "      <td>0</td>\n",
       "      <td>0</td>\n",
       "      <td>0</td>\n",
       "      <td>NaN</td>\n",
       "      <td>NaN</td>\n",
       "      <td>NaN</td>\n",
       "      <td>0</td>\n",
       "      <td>4</td>\n",
       "      <td>2010</td>\n",
       "      <td>WD</td>\n",
       "      <td>Normal</td>\n",
       "      <td>244000</td>\n",
       "    </tr>\n",
       "    <tr>\n",
       "      <th>4</th>\n",
       "      <td>5</td>\n",
       "      <td>527105010</td>\n",
       "      <td>60</td>\n",
       "      <td>RL</td>\n",
       "      <td>74.0</td>\n",
       "      <td>13830</td>\n",
       "      <td>Pave</td>\n",
       "      <td>NaN</td>\n",
       "      <td>IR1</td>\n",
       "      <td>Lvl</td>\n",
       "      <td>AllPub</td>\n",
       "      <td>Inside</td>\n",
       "      <td>Gtl</td>\n",
       "      <td>Gilbert</td>\n",
       "      <td>Norm</td>\n",
       "      <td>Norm</td>\n",
       "      <td>1Fam</td>\n",
       "      <td>2Story</td>\n",
       "      <td>5</td>\n",
       "      <td>5</td>\n",
       "      <td>1997</td>\n",
       "      <td>1998</td>\n",
       "      <td>Gable</td>\n",
       "      <td>CompShg</td>\n",
       "      <td>VinylSd</td>\n",
       "      <td>VinylSd</td>\n",
       "      <td>None</td>\n",
       "      <td>0.0</td>\n",
       "      <td>TA</td>\n",
       "      <td>TA</td>\n",
       "      <td>PConc</td>\n",
       "      <td>Gd</td>\n",
       "      <td>TA</td>\n",
       "      <td>No</td>\n",
       "      <td>GLQ</td>\n",
       "      <td>791.0</td>\n",
       "      <td>Unf</td>\n",
       "      <td>0.0</td>\n",
       "      <td>137.0</td>\n",
       "      <td>928.0</td>\n",
       "      <td>GasA</td>\n",
       "      <td>Gd</td>\n",
       "      <td>Y</td>\n",
       "      <td>SBrkr</td>\n",
       "      <td>928</td>\n",
       "      <td>701</td>\n",
       "      <td>0</td>\n",
       "      <td>1629</td>\n",
       "      <td>0.0</td>\n",
       "      <td>0.0</td>\n",
       "      <td>2</td>\n",
       "      <td>1</td>\n",
       "      <td>3</td>\n",
       "      <td>1</td>\n",
       "      <td>TA</td>\n",
       "      <td>6</td>\n",
       "      <td>Typ</td>\n",
       "      <td>1</td>\n",
       "      <td>TA</td>\n",
       "      <td>Attchd</td>\n",
       "      <td>1997.0</td>\n",
       "      <td>Fin</td>\n",
       "      <td>2.0</td>\n",
       "      <td>482.0</td>\n",
       "      <td>TA</td>\n",
       "      <td>TA</td>\n",
       "      <td>Y</td>\n",
       "      <td>212</td>\n",
       "      <td>34</td>\n",
       "      <td>0</td>\n",
       "      <td>0</td>\n",
       "      <td>0</td>\n",
       "      <td>0</td>\n",
       "      <td>NaN</td>\n",
       "      <td>MnPrv</td>\n",
       "      <td>NaN</td>\n",
       "      <td>0</td>\n",
       "      <td>3</td>\n",
       "      <td>2010</td>\n",
       "      <td>WD</td>\n",
       "      <td>Normal</td>\n",
       "      <td>189900</td>\n",
       "    </tr>\n",
       "  </tbody>\n",
       "</table>\n",
       "</div>"
      ],
      "text/plain": [
       "   Order        PID  MS.SubClass MS.Zoning  Lot.Frontage  Lot.Area Street  \\\n",
       "0      1  526301100           20        RL         141.0     31770   Pave   \n",
       "1      2  526350040           20        RH          80.0     11622   Pave   \n",
       "2      3  526351010           20        RL          81.0     14267   Pave   \n",
       "3      4  526353030           20        RL          93.0     11160   Pave   \n",
       "4      5  527105010           60        RL          74.0     13830   Pave   \n",
       "\n",
       "  Alley Lot.Shape Land.Contour Utilities Lot.Config Land.Slope Neighborhood  \\\n",
       "0   NaN       IR1          Lvl    AllPub     Corner        Gtl        NAmes   \n",
       "1   NaN       Reg          Lvl    AllPub     Inside        Gtl        NAmes   \n",
       "2   NaN       IR1          Lvl    AllPub     Corner        Gtl        NAmes   \n",
       "3   NaN       Reg          Lvl    AllPub     Corner        Gtl        NAmes   \n",
       "4   NaN       IR1          Lvl    AllPub     Inside        Gtl      Gilbert   \n",
       "\n",
       "  Condition.1 Condition.2 Bldg.Type House.Style  Overall.Qual  Overall.Cond  \\\n",
       "0        Norm        Norm      1Fam      1Story             6             5   \n",
       "1       Feedr        Norm      1Fam      1Story             5             6   \n",
       "2        Norm        Norm      1Fam      1Story             6             6   \n",
       "3        Norm        Norm      1Fam      1Story             7             5   \n",
       "4        Norm        Norm      1Fam      2Story             5             5   \n",
       "\n",
       "   Year.Built  Year.Remod.Add Roof.Style Roof.Matl Exterior.1st Exterior.2nd  \\\n",
       "0        1960            1960        Hip   CompShg      BrkFace      Plywood   \n",
       "1        1961            1961      Gable   CompShg      VinylSd      VinylSd   \n",
       "2        1958            1958        Hip   CompShg      Wd Sdng      Wd Sdng   \n",
       "3        1968            1968        Hip   CompShg      BrkFace      BrkFace   \n",
       "4        1997            1998      Gable   CompShg      VinylSd      VinylSd   \n",
       "\n",
       "  Mas.Vnr.Type  Mas.Vnr.Area Exter.Qual Exter.Cond Foundation Bsmt.Qual  \\\n",
       "0        Stone         112.0         TA         TA     CBlock        TA   \n",
       "1         None           0.0         TA         TA     CBlock        TA   \n",
       "2      BrkFace         108.0         TA         TA     CBlock        TA   \n",
       "3         None           0.0         Gd         TA     CBlock        TA   \n",
       "4         None           0.0         TA         TA      PConc        Gd   \n",
       "\n",
       "  Bsmt.Cond Bsmt.Exposure BsmtFin.Type.1  BsmtFin.SF.1 BsmtFin.Type.2  \\\n",
       "0        Gd            Gd            BLQ         639.0            Unf   \n",
       "1        TA            No            Rec         468.0            LwQ   \n",
       "2        TA            No            ALQ         923.0            Unf   \n",
       "3        TA            No            ALQ        1065.0            Unf   \n",
       "4        TA            No            GLQ         791.0            Unf   \n",
       "\n",
       "   BsmtFin.SF.2  Bsmt.Unf.SF  Total.Bsmt.SF Heating Heating.QC Central.Air  \\\n",
       "0           0.0        441.0         1080.0    GasA         Fa           Y   \n",
       "1         144.0        270.0          882.0    GasA         TA           Y   \n",
       "2           0.0        406.0         1329.0    GasA         TA           Y   \n",
       "3           0.0       1045.0         2110.0    GasA         Ex           Y   \n",
       "4           0.0        137.0          928.0    GasA         Gd           Y   \n",
       "\n",
       "  Electrical  X1st.Flr.SF  X2nd.Flr.SF  Low.Qual.Fin.SF  Gr.Liv.Area  \\\n",
       "0      SBrkr         1656            0                0         1656   \n",
       "1      SBrkr          896            0                0          896   \n",
       "2      SBrkr         1329            0                0         1329   \n",
       "3      SBrkr         2110            0                0         2110   \n",
       "4      SBrkr          928          701                0         1629   \n",
       "\n",
       "   Bsmt.Full.Bath  Bsmt.Half.Bath  Full.Bath  Half.Bath  Bedroom.AbvGr  \\\n",
       "0             1.0             0.0          1          0              3   \n",
       "1             0.0             0.0          1          0              2   \n",
       "2             0.0             0.0          1          1              3   \n",
       "3             1.0             0.0          2          1              3   \n",
       "4             0.0             0.0          2          1              3   \n",
       "\n",
       "   Kitchen.AbvGr Kitchen.Qual  TotRms.AbvGrd Functional  Fireplaces  \\\n",
       "0              1           TA              7        Typ           2   \n",
       "1              1           TA              5        Typ           0   \n",
       "2              1           Gd              6        Typ           0   \n",
       "3              1           Ex              8        Typ           2   \n",
       "4              1           TA              6        Typ           1   \n",
       "\n",
       "  Fireplace.Qu Garage.Type  Garage.Yr.Blt Garage.Finish  Garage.Cars  \\\n",
       "0           Gd      Attchd         1960.0           Fin          2.0   \n",
       "1          NaN      Attchd         1961.0           Unf          1.0   \n",
       "2          NaN      Attchd         1958.0           Unf          1.0   \n",
       "3           TA      Attchd         1968.0           Fin          2.0   \n",
       "4           TA      Attchd         1997.0           Fin          2.0   \n",
       "\n",
       "   Garage.Area Garage.Qual Garage.Cond Paved.Drive  Wood.Deck.SF  \\\n",
       "0        528.0          TA          TA           P           210   \n",
       "1        730.0          TA          TA           Y           140   \n",
       "2        312.0          TA          TA           Y           393   \n",
       "3        522.0          TA          TA           Y             0   \n",
       "4        482.0          TA          TA           Y           212   \n",
       "\n",
       "   Open.Porch.SF  Enclosed.Porch  X3Ssn.Porch  Screen.Porch  Pool.Area  \\\n",
       "0             62               0            0             0          0   \n",
       "1              0               0            0           120          0   \n",
       "2             36               0            0             0          0   \n",
       "3              0               0            0             0          0   \n",
       "4             34               0            0             0          0   \n",
       "\n",
       "  Pool.QC  Fence Misc.Feature  Misc.Val  Mo.Sold  Yr.Sold Sale.Type  \\\n",
       "0     NaN    NaN          NaN         0        5     2010       WD    \n",
       "1     NaN  MnPrv          NaN         0        6     2010       WD    \n",
       "2     NaN    NaN         Gar2     12500        6     2010       WD    \n",
       "3     NaN    NaN          NaN         0        4     2010       WD    \n",
       "4     NaN  MnPrv          NaN         0        3     2010       WD    \n",
       "\n",
       "  Sale.Condition  SalePrice  \n",
       "0         Normal     215000  \n",
       "1         Normal     105000  \n",
       "2         Normal     172000  \n",
       "3         Normal     244000  \n",
       "4         Normal     189900  "
      ]
     },
     "execution_count": 533,
     "metadata": {},
     "output_type": "execute_result"
    }
   ],
   "source": [
    "df.head()"
   ]
  },
  {
   "cell_type": "code",
   "execution_count": 534,
   "id": "c87c3b02",
   "metadata": {},
   "outputs": [
    {
     "data": {
      "text/plain": [
       "(2930, 82)"
      ]
     },
     "execution_count": 534,
     "metadata": {},
     "output_type": "execute_result"
    }
   ],
   "source": [
    "df.shape"
   ]
  },
  {
   "cell_type": "code",
   "execution_count": 535,
   "id": "832bf355",
   "metadata": {},
   "outputs": [
    {
     "data": {
      "text/plain": [
       "object     43\n",
       "int64      28\n",
       "float64    11\n",
       "dtype: int64"
      ]
     },
     "execution_count": 535,
     "metadata": {},
     "output_type": "execute_result"
    }
   ],
   "source": [
    "df.dtypes.value_counts()"
   ]
  },
  {
   "cell_type": "markdown",
   "id": "f7f7c9b0",
   "metadata": {},
   "source": [
    "## Create new dataframe with only numeric columns"
   ]
  },
  {
   "cell_type": "code",
   "execution_count": 536,
   "id": "7db4e74c",
   "metadata": {},
   "outputs": [],
   "source": [
    "# Select only columns with numeric datatypes (int and float) and convert all to float\n",
    "df_num = df.select_dtypes(include = np.number).astype(\"float\")"
   ]
  },
  {
   "cell_type": "code",
   "execution_count": 537,
   "id": "cd2a2668",
   "metadata": {},
   "outputs": [
    {
     "data": {
      "text/plain": [
       "float64    39\n",
       "dtype: int64"
      ]
     },
     "execution_count": 537,
     "metadata": {},
     "output_type": "execute_result"
    }
   ],
   "source": [
    "df_num.dtypes.value_counts()"
   ]
  },
  {
   "cell_type": "code",
   "execution_count": 538,
   "id": "3ae62e22",
   "metadata": {},
   "outputs": [
    {
     "data": {
      "text/plain": [
       "Index(['Order', 'PID', 'MS.SubClass', 'Lot.Frontage', 'Lot.Area',\n",
       "       'Overall.Qual', 'Overall.Cond', 'Year.Built', 'Year.Remod.Add',\n",
       "       'Mas.Vnr.Area', 'BsmtFin.SF.1', 'BsmtFin.SF.2', 'Bsmt.Unf.SF',\n",
       "       'Total.Bsmt.SF', 'X1st.Flr.SF', 'X2nd.Flr.SF', 'Low.Qual.Fin.SF',\n",
       "       'Gr.Liv.Area', 'Bsmt.Full.Bath', 'Bsmt.Half.Bath', 'Full.Bath',\n",
       "       'Half.Bath', 'Bedroom.AbvGr', 'Kitchen.AbvGr', 'TotRms.AbvGrd',\n",
       "       'Fireplaces', 'Garage.Yr.Blt', 'Garage.Cars', 'Garage.Area',\n",
       "       'Wood.Deck.SF', 'Open.Porch.SF', 'Enclosed.Porch', 'X3Ssn.Porch',\n",
       "       'Screen.Porch', 'Pool.Area', 'Misc.Val', 'Mo.Sold', 'Yr.Sold',\n",
       "       'SalePrice'],\n",
       "      dtype='object')"
      ]
     },
     "execution_count": 538,
     "metadata": {},
     "output_type": "execute_result"
    }
   ],
   "source": [
    "df_num.columns"
   ]
  },
  {
   "cell_type": "markdown",
   "id": "72430945",
   "metadata": {},
   "source": [
    "## EDA and Data Wrangling (of numeric data)"
   ]
  },
  {
   "cell_type": "markdown",
   "id": "89fafa74",
   "metadata": {},
   "source": [
    "#### Gr.Liv.Area (house square footage)"
   ]
  },
  {
   "cell_type": "code",
   "execution_count": 539,
   "id": "2a3c3a6d",
   "metadata": {},
   "outputs": [
    {
     "data": {
      "text/plain": [
       "count    2930.000000\n",
       "mean     1499.690444\n",
       "std       505.508887\n",
       "min       334.000000\n",
       "25%      1126.000000\n",
       "50%      1442.000000\n",
       "75%      1742.750000\n",
       "max      5642.000000\n",
       "Name: Gr.Liv.Area, dtype: float64"
      ]
     },
     "execution_count": 539,
     "metadata": {},
     "output_type": "execute_result"
    }
   ],
   "source": [
    "df_num[\"Gr.Liv.Area\"].describe()"
   ]
  },
  {
   "cell_type": "markdown",
   "id": "840e6af8",
   "metadata": {},
   "source": [
    "There is significant variance in square footage so it is worth checking for outliers that could be worth removing from the dataset."
   ]
  },
  {
   "cell_type": "code",
   "execution_count": 540,
   "id": "a4d09c76",
   "metadata": {},
   "outputs": [
    {
     "data": {
      "text/plain": [
       "Text(0.5, 1.0, 'Distribution of Gr.Liv.Area')"
      ]
     },
     "execution_count": 540,
     "metadata": {},
     "output_type": "execute_result"
    },
    {
     "data": {
      "image/png": "[encoded data removed]",
      "text/plain": [
       "<Figure size 432x288 with 1 Axes>"
      ]
     },
     "metadata": {},
     "output_type": "display_data"
    }
   ],
   "source": [
    "sns.boxplot(data = df_num, y = df_num[\"Gr.Liv.Area\"])\n",
    "plt.title(\"Distribution of Gr.Liv.Area\")"
   ]
  },
  {
   "cell_type": "markdown",
   "id": "db5f0dda",
   "metadata": {},
   "source": [
    "Remove extreme outliers, which will be deemed as those with living areas over 4000 sq ft."
   ]
  },
  {
   "cell_type": "code",
   "execution_count": 541,
   "id": "664fc52f",
   "metadata": {},
   "outputs": [
    {
     "name": "stdout",
     "output_type": "stream",
     "text": [
      "There are 2930 rows before filtering.\n",
      "There are 2925 rows after filtering.\n"
     ]
    }
   ],
   "source": [
    "print(\"There are\", df_num.shape[0], \"rows before filtering.\")\n",
    "df_num = df_num[df_num[\"Gr.Liv.Area\"] < 4000]\n",
    "print(\"There are\", df_num.shape[0], \"rows after filtering.\")"
   ]
  },
  {
   "cell_type": "markdown",
   "id": "0d7884c8",
   "metadata": {},
   "source": [
    "#### Handling Zero Values"
   ]
  },
  {
   "cell_type": "markdown",
   "id": "c9e3fac3",
   "metadata": {},
   "source": [
    "Find rows with zero value in over 20% of rows"
   ]
  },
  {
   "cell_type": "code",
   "execution_count": 542,
   "id": "9c8c9294",
   "metadata": {},
   "outputs": [
    {
     "name": "stdout",
     "output_type": "stream",
     "text": [
      "Mas.Vnr.Area\n",
      "0.5972649572649573\n",
      "\n",
      "BsmtFin.SF.1\n",
      "0.31794871794871793\n",
      "\n",
      "BsmtFin.SF.2\n",
      "0.8796581196581197\n",
      "\n",
      "X2nd.Flr.SF\n",
      "0.5733333333333334\n",
      "\n",
      "Low.Qual.Fin.SF\n",
      "0.9863247863247864\n",
      "\n",
      "Bsmt.Full.Bath\n",
      "0.5832478632478633\n",
      "\n",
      "Bsmt.Half.Bath\n",
      "0.9401709401709402\n",
      "\n",
      "Half.Bath\n",
      "0.6300854700854701\n",
      "\n",
      "Fireplaces\n",
      "0.48615384615384616\n",
      "\n",
      "Wood.Deck.SF\n",
      "0.5217094017094017\n",
      "\n",
      "Open.Porch.SF\n",
      "0.4444444444444444\n",
      "\n",
      "Enclosed.Porch\n",
      "0.8430769230769231\n",
      "\n",
      "X3Ssn.Porch\n",
      "0.9873504273504273\n",
      "\n",
      "Screen.Porch\n",
      "0.9124786324786325\n",
      "\n",
      "Pool.Area\n",
      "0.9962393162393163\n",
      "\n",
      "Misc.Val\n",
      "0.9651282051282051\n",
      "\n"
     ]
    }
   ],
   "source": [
    "zero_cols = []\n",
    "\n",
    "for col in df_num.columns:\n",
    "    zeros = (df_num[col] == 0).sum()\n",
    "    pct_zeros = zeros / df_num.shape[0]\n",
    "    if pct_zeros >= 0.2:\n",
    "        zero_cols.append(col)\n",
    "        print(col)\n",
    "        print(pct_zeros)\n",
    "        print(\"\")"
   ]
  },
  {
   "cell_type": "code",
   "execution_count": 543,
   "id": "6541cb39",
   "metadata": {},
   "outputs": [
    {
     "name": "stdout",
     "output_type": "stream",
     "text": [
      "There are 39 columns before filtering.\n",
      "There are 23 columns after filtering.\n"
     ]
    }
   ],
   "source": [
    "print(\"There are\", df_num.shape[1], \"columns before filtering.\")\n",
    "df_num.drop(zero_cols, axis = 1, inplace = True)\n",
    "print(\"There are\", df_num.shape[1], \"columns after filtering.\")"
   ]
  },
  {
   "cell_type": "markdown",
   "id": "07720dcf",
   "metadata": {},
   "source": [
    "#### Year.Built and Year.Remod.Add"
   ]
  },
  {
   "cell_type": "markdown",
   "id": "8f8fef32",
   "metadata": {},
   "source": [
    "Ensure that all rows have year build before year remodelled"
   ]
  },
  {
   "cell_type": "code",
   "execution_count": 544,
   "id": "0bdc1e2d",
   "metadata": {},
   "outputs": [
    {
     "data": {
      "text/html": [
       "<div>\n",
       "<style scoped>\n",
       "    .dataframe tbody tr th:only-of-type {\n",
       "        vertical-align: middle;\n",
       "    }\n",
       "\n",
       "    .dataframe tbody tr th {\n",
       "        vertical-align: top;\n",
       "    }\n",
       "\n",
       "    .dataframe thead th {\n",
       "        text-align: right;\n",
       "    }\n",
       "</style>\n",
       "<table border=\"1\" class=\"dataframe\">\n",
       "  <thead>\n",
       "    <tr style=\"text-align: right;\">\n",
       "      <th></th>\n",
       "      <th>Order</th>\n",
       "      <th>PID</th>\n",
       "      <th>MS.SubClass</th>\n",
       "      <th>Lot.Frontage</th>\n",
       "      <th>Lot.Area</th>\n",
       "      <th>Overall.Qual</th>\n",
       "      <th>Overall.Cond</th>\n",
       "      <th>Year.Built</th>\n",
       "      <th>Year.Remod.Add</th>\n",
       "      <th>Bsmt.Unf.SF</th>\n",
       "      <th>Total.Bsmt.SF</th>\n",
       "      <th>X1st.Flr.SF</th>\n",
       "      <th>Gr.Liv.Area</th>\n",
       "      <th>Full.Bath</th>\n",
       "      <th>Bedroom.AbvGr</th>\n",
       "      <th>Kitchen.AbvGr</th>\n",
       "      <th>TotRms.AbvGrd</th>\n",
       "      <th>Garage.Yr.Blt</th>\n",
       "      <th>Garage.Cars</th>\n",
       "      <th>Garage.Area</th>\n",
       "      <th>Mo.Sold</th>\n",
       "      <th>Yr.Sold</th>\n",
       "      <th>SalePrice</th>\n",
       "    </tr>\n",
       "  </thead>\n",
       "  <tbody>\n",
       "    <tr>\n",
       "      <th>850</th>\n",
       "      <td>851.0</td>\n",
       "      <td>907194160.0</td>\n",
       "      <td>20.0</td>\n",
       "      <td>65.0</td>\n",
       "      <td>10739.0</td>\n",
       "      <td>7.0</td>\n",
       "      <td>5.0</td>\n",
       "      <td>2002.0</td>\n",
       "      <td>2001.0</td>\n",
       "      <td>172.0</td>\n",
       "      <td>1431.0</td>\n",
       "      <td>1444.0</td>\n",
       "      <td>1444.0</td>\n",
       "      <td>2.0</td>\n",
       "      <td>3.0</td>\n",
       "      <td>1.0</td>\n",
       "      <td>6.0</td>\n",
       "      <td>2002.0</td>\n",
       "      <td>2.0</td>\n",
       "      <td>577.0</td>\n",
       "      <td>4.0</td>\n",
       "      <td>2009.0</td>\n",
       "      <td>203000.0</td>\n",
       "    </tr>\n",
       "  </tbody>\n",
       "</table>\n",
       "</div>"
      ],
      "text/plain": [
       "     Order          PID  MS.SubClass  Lot.Frontage  Lot.Area  Overall.Qual  \\\n",
       "850  851.0  907194160.0         20.0          65.0   10739.0           7.0   \n",
       "\n",
       "     Overall.Cond  Year.Built  Year.Remod.Add  Bsmt.Unf.SF  Total.Bsmt.SF  \\\n",
       "850           5.0      2002.0          2001.0        172.0         1431.0   \n",
       "\n",
       "     X1st.Flr.SF  Gr.Liv.Area  Full.Bath  Bedroom.AbvGr  Kitchen.AbvGr  \\\n",
       "850       1444.0       1444.0        2.0            3.0            1.0   \n",
       "\n",
       "     TotRms.AbvGrd  Garage.Yr.Blt  Garage.Cars  Garage.Area  Mo.Sold  Yr.Sold  \\\n",
       "850            6.0         2002.0          2.0        577.0      4.0   2009.0   \n",
       "\n",
       "     SalePrice  \n",
       "850   203000.0  "
      ]
     },
     "execution_count": 544,
     "metadata": {},
     "output_type": "execute_result"
    }
   ],
   "source": [
    "df_num.loc[df[\"Year.Built\"] > df[\"Year.Remod.Add\"]]"
   ]
  },
  {
   "cell_type": "code",
   "execution_count": 545,
   "id": "8c689015",
   "metadata": {},
   "outputs": [
    {
     "name": "stdout",
     "output_type": "stream",
     "text": [
      "There are 2925 rows before filtering.\n",
      "There are 2924 rows after filtering.\n"
     ]
    }
   ],
   "source": [
    "print(\"There are\", df_num.shape[0], \"rows before filtering.\")\n",
    "df_num.drop(850, axis = 0, inplace = True)\n",
    "print(\"There are\", df_num.shape[0], \"rows after filtering.\")"
   ]
  },
  {
   "cell_type": "markdown",
   "id": "a011f146",
   "metadata": {},
   "source": [
    "#### Drop Unnecessary Columns"
   ]
  },
  {
   "cell_type": "markdown",
   "id": "bd5812ab",
   "metadata": {},
   "source": [
    "Based on knoledge of the dataset, eliminate rows that will not be useful for model construction and prediction."
   ]
  },
  {
   "cell_type": "code",
   "execution_count": 546,
   "id": "133b4fe9",
   "metadata": {},
   "outputs": [
    {
     "data": {
      "text/plain": [
       "Index(['Order', 'PID', 'MS.SubClass', 'Lot.Frontage', 'Lot.Area',\n",
       "       'Overall.Qual', 'Overall.Cond', 'Year.Built', 'Year.Remod.Add',\n",
       "       'Bsmt.Unf.SF', 'Total.Bsmt.SF', 'X1st.Flr.SF', 'Gr.Liv.Area',\n",
       "       'Full.Bath', 'Bedroom.AbvGr', 'Kitchen.AbvGr', 'TotRms.AbvGrd',\n",
       "       'Garage.Yr.Blt', 'Garage.Cars', 'Garage.Area', 'Mo.Sold', 'Yr.Sold',\n",
       "       'SalePrice'],\n",
       "      dtype='object')"
      ]
     },
     "execution_count": 546,
     "metadata": {},
     "output_type": "execute_result"
    }
   ],
   "source": [
    "df_num.columns"
   ]
  },
  {
   "cell_type": "code",
   "execution_count": 547,
   "id": "82d674cc",
   "metadata": {},
   "outputs": [
    {
     "name": "stdout",
     "output_type": "stream",
     "text": [
      "There are 23 columns before filtering.\n",
      "There are 15 columns after filtering.\n"
     ]
    }
   ],
   "source": [
    "print(\"There are\", df_num.shape[1], \"columns before filtering.\")\n",
    "\n",
    "df_num.drop([\"Order\", \"PID\", \"MS.SubClass\", \"Overall.Qual\", \"Overall.Cond\", \"Full.Bath\", \"Kitchen.AbvGr\", \"Garage.Yr.Blt\"], \n",
    "            axis = 1, inplace = True)\n",
    "\n",
    "print(\"There are\", df_num.shape[1], \"columns after filtering.\")"
   ]
  },
  {
   "cell_type": "markdown",
   "id": "2e206d43",
   "metadata": {},
   "source": [
    "#### Duplicate Rows"
   ]
  },
  {
   "cell_type": "code",
   "execution_count": 548,
   "id": "bae6e25a",
   "metadata": {},
   "outputs": [
    {
     "data": {
      "text/plain": [
       "2"
      ]
     },
     "execution_count": 548,
     "metadata": {},
     "output_type": "execute_result"
    }
   ],
   "source": [
    "df_num.duplicated().sum()"
   ]
  },
  {
   "cell_type": "code",
   "execution_count": 549,
   "id": "3519c4aa",
   "metadata": {},
   "outputs": [
    {
     "name": "stdout",
     "output_type": "stream",
     "text": [
      "There are 2924 rows before filtering.\n",
      "There are 2922 rows after filtering.\n"
     ]
    }
   ],
   "source": [
    "print(\"There are\", df_num.shape[0], \"rows before filtering.\")\n",
    "df_num.drop_duplicates(keep = \"first\", inplace = True)\n",
    "print(\"There are\", df_num.shape[0], \"rows after filtering.\")"
   ]
  },
  {
   "cell_type": "markdown",
   "id": "e22e1ca1",
   "metadata": {},
   "source": [
    "#### Null Values"
   ]
  },
  {
   "cell_type": "code",
   "execution_count": 550,
   "id": "3ccf5a00",
   "metadata": {},
   "outputs": [
    {
     "data": {
      "text/plain": [
       "Lot.Frontage      490\n",
       "Lot.Area            0\n",
       "Year.Built          0\n",
       "Year.Remod.Add      0\n",
       "Bsmt.Unf.SF         1\n",
       "Total.Bsmt.SF       1\n",
       "X1st.Flr.SF         0\n",
       "Gr.Liv.Area         0\n",
       "Bedroom.AbvGr       0\n",
       "TotRms.AbvGrd       0\n",
       "Garage.Cars         1\n",
       "Garage.Area         1\n",
       "Mo.Sold             0\n",
       "Yr.Sold             0\n",
       "SalePrice           0\n",
       "dtype: int64"
      ]
     },
     "execution_count": 550,
     "metadata": {},
     "output_type": "execute_result"
    }
   ],
   "source": [
    "df_num.isnull().sum()"
   ]
  },
  {
   "cell_type": "code",
   "execution_count": 551,
   "id": "ef3e7e68",
   "metadata": {
    "scrolled": true
   },
   "outputs": [
    {
     "data": {
      "text/plain": [
       "Text(0.5, 1.0, 'Distribution of Sale Price for Rows WITHOUT Null Lot.Frontage Values')"
      ]
     },
     "execution_count": 551,
     "metadata": {},
     "output_type": "execute_result"
    },
    {
     "data": {
      "image/png": "[encoded data removed]",
      "text/plain": [
       "<Figure size 1728x576 with 2 Axes>"
      ]
     },
     "metadata": {},
     "output_type": "display_data"
    }
   ],
   "source": [
    "fig, ax = plt.subplots(1, 2, figsize = (24, 8))\n",
    "\n",
    "sns.boxplot(data = df_num[df_num[\"Lot.Frontage\"].isnull()], y = \"SalePrice\", ax = ax[0])\n",
    "ax[0].set_title(\"Distribution of Sale Price for Rows WITH Null Lot.Frontage Values\", fontsize = 18)\n",
    "\n",
    "sns.boxplot(data = df_num.dropna(), y = \"SalePrice\", ax = ax[1])\n",
    "ax[1].set_title(\"Distribution of Sale Price for Rows WITHOUT Null Lot.Frontage Values\", fontsize = 18)"
   ]
  },
  {
   "cell_type": "markdown",
   "id": "96b78891",
   "metadata": {},
   "source": [
    "There do not appear to be significantly different distributions of Sale Price for the rows with and without null values in the Lot.Frontage columns, so the null values can be removed from the dataset."
   ]
  },
  {
   "cell_type": "code",
   "execution_count": 552,
   "id": "fa249eba",
   "metadata": {},
   "outputs": [
    {
     "name": "stdout",
     "output_type": "stream",
     "text": [
      "There are 2922 rows before filtering.\n",
      "There are 2430 rows aftertering.\n"
     ]
    }
   ],
   "source": [
    "print(\"There are\", df_num.shape[0], \"rows before filtering.\")\n",
    "df_num.dropna(how = \"any\", inplace = True)\n",
    "print(\"There are\", df_num.shape[0], \"rows aftertering.\")"
   ]
  },
  {
   "cell_type": "markdown",
   "id": "5b0d244f",
   "metadata": {},
   "source": [
    "#### Mo.Sold (month sold)"
   ]
  },
  {
   "cell_type": "markdown",
   "id": "43dae941",
   "metadata": {},
   "source": [
    "Because months are not numeric and are currently listed as 1-12, they should be replaced by the month name and converted to dummy variables."
   ]
  },
  {
   "cell_type": "code",
   "execution_count": 553,
   "id": "ebba7c46",
   "metadata": {},
   "outputs": [],
   "source": [
    "month_dict = {1 : \"Jan\", \n",
    "              2 : \"Feb\", \n",
    "              3 : \"Mar\", \n",
    "              4 : \"Apr\", \n",
    "              5 : \"May\",\n",
    "              6 : \"Jun\",\n",
    "              7 : \"Jul\",\n",
    "              8 : \"Aug\", \n",
    "              9 : \"Sep\",\n",
    "              10 : \"Oct\",\n",
    "              11 : \"Nov\", \n",
    "              12 : \"Dec\"}\n",
    "\n",
    "df_num[\"Mo.Sold\"] = df_num[\"Mo.Sold\"].apply(lambda x: month_dict[x])"
   ]
  },
  {
   "cell_type": "code",
   "execution_count": 554,
   "id": "eed011e8",
   "metadata": {},
   "outputs": [],
   "source": [
    "df_num = pd.get_dummies(df_num, columns = [\"Mo.Sold\"])"
   ]
  },
  {
   "cell_type": "markdown",
   "id": "b071d1bd",
   "metadata": {},
   "source": [
    "#### Years"
   ]
  },
  {
   "cell_type": "markdown",
   "id": "936fffa2",
   "metadata": {},
   "source": [
    "Transform columns with years such that they are represented by their number of years since 2010 (last year in the dataset)"
   ]
  },
  {
   "cell_type": "code",
   "execution_count": 555,
   "id": "12e7203f",
   "metadata": {},
   "outputs": [],
   "source": [
    "years = [\"Year.Built\", \"Year.Remod.Add\", \"Yr.Sold\"]\n",
    "\n",
    "for col in years:\n",
    "    df_num[col] = df_num[col].transform(lambda x: 2010 - x)"
   ]
  },
  {
   "cell_type": "code",
   "execution_count": 556,
   "id": "3e8f3043",
   "metadata": {},
   "outputs": [
    {
     "data": {
      "text/html": [
       "<div>\n",
       "<style scoped>\n",
       "    .dataframe tbody tr th:only-of-type {\n",
       "        vertical-align: middle;\n",
       "    }\n",
       "\n",
       "    .dataframe tbody tr th {\n",
       "        vertical-align: top;\n",
       "    }\n",
       "\n",
       "    .dataframe thead th {\n",
       "        text-align: right;\n",
       "    }\n",
       "</style>\n",
       "<table border=\"1\" class=\"dataframe\">\n",
       "  <thead>\n",
       "    <tr style=\"text-align: right;\">\n",
       "      <th></th>\n",
       "      <th>Year.Built</th>\n",
       "      <th>Year.Remod.Add</th>\n",
       "      <th>Yr.Sold</th>\n",
       "    </tr>\n",
       "  </thead>\n",
       "  <tbody>\n",
       "    <tr>\n",
       "      <th>0</th>\n",
       "      <td>50.0</td>\n",
       "      <td>50.0</td>\n",
       "      <td>0.0</td>\n",
       "    </tr>\n",
       "    <tr>\n",
       "      <th>1</th>\n",
       "      <td>49.0</td>\n",
       "      <td>49.0</td>\n",
       "      <td>0.0</td>\n",
       "    </tr>\n",
       "    <tr>\n",
       "      <th>2</th>\n",
       "      <td>52.0</td>\n",
       "      <td>52.0</td>\n",
       "      <td>0.0</td>\n",
       "    </tr>\n",
       "    <tr>\n",
       "      <th>3</th>\n",
       "      <td>42.0</td>\n",
       "      <td>42.0</td>\n",
       "      <td>0.0</td>\n",
       "    </tr>\n",
       "    <tr>\n",
       "      <th>4</th>\n",
       "      <td>13.0</td>\n",
       "      <td>12.0</td>\n",
       "      <td>0.0</td>\n",
       "    </tr>\n",
       "  </tbody>\n",
       "</table>\n",
       "</div>"
      ],
      "text/plain": [
       "   Year.Built  Year.Remod.Add  Yr.Sold\n",
       "0        50.0            50.0      0.0\n",
       "1        49.0            49.0      0.0\n",
       "2        52.0            52.0      0.0\n",
       "3        42.0            42.0      0.0\n",
       "4        13.0            12.0      0.0"
      ]
     },
     "execution_count": 556,
     "metadata": {},
     "output_type": "execute_result"
    }
   ],
   "source": [
    "df_num[years].head()"
   ]
  },
  {
   "cell_type": "markdown",
   "id": "a71b3de3",
   "metadata": {},
   "source": [
    "## Feature Engineering"
   ]
  },
  {
   "cell_type": "code",
   "execution_count": 557,
   "id": "3364713d",
   "metadata": {},
   "outputs": [
    {
     "data": {
      "text/plain": [
       "array([1.410e+02, 3.177e+04, 5.000e+01, 5.000e+01, 4.410e+02, 1.080e+03,\n",
       "       1.656e+03, 1.656e+03, 3.000e+00, 7.000e+00, 2.000e+00, 5.280e+02,\n",
       "       0.000e+00, 0.000e+00, 0.000e+00, 0.000e+00, 0.000e+00, 0.000e+00,\n",
       "       0.000e+00, 0.000e+00, 0.000e+00, 1.000e+00, 0.000e+00, 0.000e+00,\n",
       "       0.000e+00])"
      ]
     },
     "execution_count": 557,
     "metadata": {},
     "output_type": "execute_result"
    }
   ],
   "source": [
    "X = df_num.drop(\"SalePrice\", axis = 1).values\n",
    "X[0]"
   ]
  },
  {
   "cell_type": "code",
   "execution_count": 558,
   "id": "6c4e50d0",
   "metadata": {},
   "outputs": [
    {
     "data": {
      "text/plain": [
       "array([215000., 105000., 172000., 244000., 189900.])"
      ]
     },
     "execution_count": 558,
     "metadata": {},
     "output_type": "execute_result"
    }
   ],
   "source": [
    "Y = df_num[\"SalePrice\"].values\n",
    "Y[0:5]"
   ]
  },
  {
   "cell_type": "markdown",
   "id": "18aceb4f",
   "metadata": {},
   "source": [
    "## K-Means Clustering"
   ]
  },
  {
   "cell_type": "markdown",
   "id": "85da621c",
   "metadata": {},
   "source": [
    "Iterate through clusters numbers to classify samples into 2-12 clusterss using the k-means clustering algorithm. Then determine the silhouette score, davies bouldin score and calinski harabasz score to determine which number of clusters maximizes the homogeneity of the clusters. In addition, an elbow plot is used to show the sum or squared errors for each number of clusters."
   ]
  },
  {
   "cell_type": "code",
   "execution_count": 559,
   "id": "1eb3f1f9",
   "metadata": {},
   "outputs": [],
   "source": [
    "from sklearn.cluster import KMeans\n",
    "from sklearn.metrics import silhouette_score, davies_bouldin_score, calinski_harabasz_score"
   ]
  },
  {
   "cell_type": "code",
   "execution_count": 560,
   "id": "11e71219",
   "metadata": {},
   "outputs": [
    {
     "name": "stdout",
     "output_type": "stream",
     "text": [
      "0 Clusters:\n",
      "Silhouette Score = 0.9764730134998465\n",
      "Davies Bouldin Score = 0.01536314383978111\n",
      "Calinski Harabasz Score = 1853.4995163932754\n",
      "\n",
      "1 Clusters:\n",
      "Silhouette Score = 0.525251854972005\n",
      "Davies Bouldin Score = 0.5234687219972111\n",
      "Calinski Harabasz Score = 2401.9438327941193\n",
      "\n",
      "2 Clusters:\n",
      "Silhouette Score = 0.4382998791446314\n",
      "Davies Bouldin Score = 0.5246239383669039\n",
      "Calinski Harabasz Score = 3429.517044534469\n",
      "\n",
      "3 Clusters:\n",
      "Silhouette Score = 0.4642789598567814\n",
      "Davies Bouldin Score = 0.5042088004884049\n",
      "Calinski Harabasz Score = 4627.898457744516\n",
      "\n",
      "4 Clusters:\n",
      "Silhouette Score = 0.431351766019064\n",
      "Davies Bouldin Score = 0.5634065538558687\n",
      "Calinski Harabasz Score = 5359.961659287244\n",
      "\n",
      "5 Clusters:\n",
      "Silhouette Score = 0.4138630283376737\n",
      "Davies Bouldin Score = 0.5697400616984234\n",
      "Calinski Harabasz Score = 5861.994819134827\n",
      "\n",
      "6 Clusters:\n",
      "Silhouette Score = 0.3936105765563746\n",
      "Davies Bouldin Score = 0.6116104598742524\n",
      "Calinski Harabasz Score = 6149.518754165893\n",
      "\n",
      "7 Clusters:\n",
      "Silhouette Score = 0.3744351046590312\n",
      "Davies Bouldin Score = 0.6392683435883187\n",
      "Calinski Harabasz Score = 6430.579398385653\n",
      "\n",
      "8 Clusters:\n",
      "Silhouette Score = 0.3454964141870944\n",
      "Davies Bouldin Score = 0.7064045880811844\n",
      "Calinski Harabasz Score = 6617.62805422017\n",
      "\n",
      "9 Clusters:\n",
      "Silhouette Score = 0.3455300463561509\n",
      "Davies Bouldin Score = 0.6317606320771454\n",
      "Calinski Harabasz Score = 6765.189971174942\n",
      "\n",
      "10 Clusters:\n",
      "Silhouette Score = 0.3234775231227203\n",
      "Davies Bouldin Score = 0.6840314125341416\n",
      "Calinski Harabasz Score = 6887.126215255435\n",
      "\n"
     ]
    }
   ],
   "source": [
    "clus_sil_score = []\n",
    "clus_dav_score = []\n",
    "clus_cal_score = []\n",
    "\n",
    "for i in range(11):\n",
    "    \n",
    "    kmeans = KMeans(n_clusters = i + 2, random_state = 25).fit(X)\n",
    "    kmeans_predict = kmeans.predict(X)\n",
    "    \n",
    "    clus_sil_score.append(silhouette_score(X, kmeans_predict))\n",
    "    clus_dav_score.append(davies_bouldin_score(X, kmeans_predict))\n",
    "    clus_cal_score.append(calinski_harabasz_score(X, kmeans_predict))\n",
    "    \n",
    "    print(i, \"Clusters:\")\n",
    "    print(\"Silhouette Score =\", clus_sil_score[i])\n",
    "    print(\"Davies Bouldin Score =\", clus_dav_score[i])\n",
    "    print(\"Calinski Harabasz Score =\", clus_cal_score[i])\n",
    "    print(\"\")"
   ]
  },
  {
   "cell_type": "code",
   "execution_count": 561,
   "id": "dec98e65",
   "metadata": {},
   "outputs": [
    {
     "data": {
      "image/png": "[encoded data removed]",
      "text/plain": [
       "<Figure size 720x720 with 2 Axes>"
      ]
     },
     "metadata": {},
     "output_type": "display_data"
    }
   ],
   "source": [
    "import scikitplot as skplt\n",
    "\n",
    "kmeans = KMeans(random_state = 25)\n",
    "\n",
    "skplt.cluster.plot_elbow_curve(kmeans, X, cluster_ranges = range(1, 20), n_jobs = -1, figsize = (10, 10))\n",
    "\n",
    "plt.show()"
   ]
  },
  {
   "cell_type": "code",
   "execution_count": 562,
   "id": "2ea3ba6c",
   "metadata": {},
   "outputs": [
    {
     "data": {
      "image/png": "[encoded data removed]",
      "text/plain": [
       "<Figure size 720x720 with 1 Axes>"
      ]
     },
     "metadata": {},
     "output_type": "display_data"
    }
   ],
   "source": [
    "kmeans = KMeans(n_clusters = 5, random_state = 25).fit(X)\n",
    "kmeans_predict = kmeans.predict(X)\n",
    "    \n",
    "skplt.metrics.plot_silhouette(X, kmeans_predict, figsize=(10,10))\n",
    "plt.show()"
   ]
  },
  {
   "cell_type": "markdown",
   "id": "261d4d37",
   "metadata": {},
   "source": [
    "Based on the Elbow Plot, Silhouette Score, Davies Bouldin Score, and Calinski Score, the ideal number of clusters appears to be 5 clusters. "
   ]
  },
  {
   "cell_type": "code",
   "execution_count": 563,
   "id": "06ecbb66",
   "metadata": {},
   "outputs": [
    {
     "name": "stdout",
     "output_type": "stream",
     "text": [
      "Label: 0\n",
      "Counts: 1425\n",
      "\n",
      "Label: 1\n",
      "Counts: 1\n",
      "\n",
      "Label: 2\n",
      "Counts: 17\n",
      "\n",
      "Label: 3\n",
      "Counts: 354\n",
      "\n",
      "Label: 4\n",
      "Counts: 633\n",
      "\n"
     ]
    }
   ],
   "source": [
    "for i in range(5):\n",
    "    print(\"Label:\", np.unique(kmeans.labels_, return_counts = True)[0][i])\n",
    "    print(\"Counts:\", np.unique(kmeans.labels_, return_counts = True)[1][i])\n",
    "    print(\"\")"
   ]
  },
  {
   "cell_type": "code",
   "execution_count": 564,
   "id": "31c804ed",
   "metadata": {},
   "outputs": [],
   "source": [
    "df_clust = df_num.copy()\n",
    "df_clust[\"Cluster\"] = kmeans.labels_"
   ]
  },
  {
   "cell_type": "code",
   "execution_count": 565,
   "id": "d6420e9e",
   "metadata": {},
   "outputs": [
    {
     "data": {
      "text/html": [
       "<div>\n",
       "<style scoped>\n",
       "    .dataframe tbody tr th:only-of-type {\n",
       "        vertical-align: middle;\n",
       "    }\n",
       "\n",
       "    .dataframe tbody tr th {\n",
       "        vertical-align: top;\n",
       "    }\n",
       "\n",
       "    .dataframe thead th {\n",
       "        text-align: right;\n",
       "    }\n",
       "</style>\n",
       "<table border=\"1\" class=\"dataframe\">\n",
       "  <thead>\n",
       "    <tr style=\"text-align: right;\">\n",
       "      <th></th>\n",
       "      <th>Year.Built</th>\n",
       "      <th>Gr.Liv.Area</th>\n",
       "      <th>SalePrice</th>\n",
       "    </tr>\n",
       "    <tr>\n",
       "      <th>Cluster</th>\n",
       "      <th></th>\n",
       "      <th></th>\n",
       "      <th></th>\n",
       "    </tr>\n",
       "  </thead>\n",
       "  <tbody>\n",
       "    <tr>\n",
       "      <th>1</th>\n",
       "      <td>45.000000</td>\n",
       "      <td>2036.000000</td>\n",
       "      <td>375000.000000</td>\n",
       "    </tr>\n",
       "    <tr>\n",
       "      <th>2</th>\n",
       "      <td>41.470588</td>\n",
       "      <td>2124.235294</td>\n",
       "      <td>289234.529412</td>\n",
       "    </tr>\n",
       "    <tr>\n",
       "      <th>3</th>\n",
       "      <td>31.110169</td>\n",
       "      <td>1838.008475</td>\n",
       "      <td>252250.127119</td>\n",
       "    </tr>\n",
       "    <tr>\n",
       "      <th>0</th>\n",
       "      <td>37.905965</td>\n",
       "      <td>1494.049825</td>\n",
       "      <td>178212.315088</td>\n",
       "    </tr>\n",
       "    <tr>\n",
       "      <th>4</th>\n",
       "      <td>47.864139</td>\n",
       "      <td>1238.842022</td>\n",
       "      <td>139246.322275</td>\n",
       "    </tr>\n",
       "  </tbody>\n",
       "</table>\n",
       "</div>"
      ],
      "text/plain": [
       "         Year.Built  Gr.Liv.Area      SalePrice\n",
       "Cluster                                        \n",
       "1         45.000000  2036.000000  375000.000000\n",
       "2         41.470588  2124.235294  289234.529412\n",
       "3         31.110169  1838.008475  252250.127119\n",
       "0         37.905965  1494.049825  178212.315088\n",
       "4         47.864139  1238.842022  139246.322275"
      ]
     },
     "execution_count": 565,
     "metadata": {},
     "output_type": "execute_result"
    }
   ],
   "source": [
    "df_clust.groupby(\"Cluster\")[[\"Year.Built\", \"Gr.Liv.Area\", \"SalePrice\"]].mean().sort_values(\"SalePrice\", ascending = False)"
   ]
  },
  {
   "cell_type": "markdown",
   "id": "0cb8ee8d",
   "metadata": {},
   "source": [
    "* **Cluster 0:** mid-size, newer homes in the mid-tier price range\n",
    "* **Cluster 1:** small, older homes in the low-tier price range\n",
    "* **Cluster 2:** a singular unique home that is large, old, and in the high-tier price range\n",
    "* **Cluster 3:** mid-size, relatively new homes in the low-tier price range\n",
    "* **Cluster 4:** large, relatively old homes in the high-tier price range"
   ]
  },
  {
   "cell_type": "markdown",
   "id": "5ef7a0b1",
   "metadata": {},
   "source": [
    "## Split Data"
   ]
  },
  {
   "cell_type": "code",
   "execution_count": 566,
   "id": "1b5cba46",
   "metadata": {},
   "outputs": [],
   "source": [
    "from sklearn.model_selection import train_test_split\n",
    "x_train, x_test, y_train, y_test = train_test_split(X, Y, test_size = 0.2, random_state = 25)"
   ]
  },
  {
   "cell_type": "code",
   "execution_count": 567,
   "id": "a75375f0",
   "metadata": {},
   "outputs": [],
   "source": [
    "from sklearn.preprocessing import StandardScaler\n",
    "x_train_scale = StandardScaler().fit_transform(x_train)\n",
    "x_test_scale = StandardScaler().fit_transform(x_test)"
   ]
  },
  {
   "cell_type": "code",
   "execution_count": 568,
   "id": "84f40ae5",
   "metadata": {},
   "outputs": [
    {
     "name": "stdout",
     "output_type": "stream",
     "text": [
      "Training Data Shape: (1944, 25)\n",
      "Testing Data Shape: (486, 25)\n",
      "\n",
      "Scaled Training Data Shape: (1944, 25)\n",
      "Scaled Testing Data Shape: (486, 25)\n"
     ]
    }
   ],
   "source": [
    "print(\"Training Data Shape:\", x_train.shape)\n",
    "print(\"Testing Data Shape:\", x_test.shape)\n",
    "\n",
    "print(\"\")\n",
    "\n",
    "print(\"Scaled Training Data Shape:\", x_train_scale.shape)\n",
    "print(\"Scaled Testing Data Shape:\", x_test_scale.shape)"
   ]
  },
  {
   "cell_type": "markdown",
   "id": "54acc05e",
   "metadata": {},
   "source": [
    "## Feature Reduction"
   ]
  },
  {
   "cell_type": "markdown",
   "id": "21f4e81d",
   "metadata": {},
   "source": [
    "Use PCA to transform train and test sets to only contain features that are responsible for 80%+ of the variance in the data."
   ]
  },
  {
   "cell_type": "code",
   "execution_count": 569,
   "id": "ec3b14e2",
   "metadata": {},
   "outputs": [
    {
     "name": "stdout",
     "output_type": "stream",
     "text": [
      "Reduced Training Data Shape: (1944, 1)\n",
      "Reduced Testing Data Shape: (486, 1)\n"
     ]
    }
   ],
   "source": [
    "from sklearn.decomposition import PCA\n",
    "\n",
    "pca80 = PCA(n_components = 0.9, svd_solver = \"full\").fit(x_train)\n",
    "x_train_pca = pca80.transform(x_train)\n",
    "x_test_pca = pca80.transform(x_test)\n",
    "\n",
    "print(\"Reduced Training Data Shape:\", x_train_pca.shape)\n",
    "print(\"Reduced Testing Data Shape:\", x_test_pca.shape)"
   ]
  },
  {
   "cell_type": "code",
   "execution_count": 570,
   "id": "b35c3c9d",
   "metadata": {},
   "outputs": [
    {
     "name": "stdout",
     "output_type": "stream",
     "text": [
      "Reduced Scaled Training Data Shape: (1944, 1)\n",
      "Reduced Scaled Testing Data Shape: (486, 1)\n"
     ]
    }
   ],
   "source": [
    "pca80_scale = PCA(n_components = 0.9, svd_solver = \"full\").fit(x_train_scale)\n",
    "x_train_scale_pca = pca80.transform(x_train_scale)\n",
    "x_test_scale_pca = pca80.transform(x_test_scale)\n",
    "\n",
    "print(\"Reduced Scaled Training Data Shape:\", x_train_scale_pca.shape)\n",
    "print(\"Reduced Scaled Testing Data Shape:\", x_test_scale_pca.shape)"
   ]
  },
  {
   "cell_type": "markdown",
   "id": "6e94aeac",
   "metadata": {},
   "source": [
    "There appears to be one variable that is responsible for 80%+ of the variance in the data."
   ]
  },
  {
   "cell_type": "markdown",
   "id": "5bedb909",
   "metadata": {},
   "source": [
    "## Random Forest Regression"
   ]
  },
  {
   "cell_type": "markdown",
   "id": "b3288e91",
   "metadata": {},
   "source": [
    "Train random forest regression model and set hyperparameters such that there are 100 trees in the forest (n_estimators), the nodes are expanded until the leaves are pure (max_depth), the number of features considered for each split is log2 of the number of features (max_features), and out of bag samples are used when building trees (oob_score)."
   ]
  },
  {
   "cell_type": "code",
   "execution_count": 571,
   "id": "8779fe8e",
   "metadata": {},
   "outputs": [],
   "source": [
    "from sklearn.ensemble import RandomForestRegressor\n",
    "from sklearn.metrics import r2_score"
   ]
  },
  {
   "cell_type": "markdown",
   "id": "9632a318",
   "metadata": {},
   "source": [
    "#### Train model using unstandardized training data"
   ]
  },
  {
   "cell_type": "code",
   "execution_count": 572,
   "id": "93583b85",
   "metadata": {},
   "outputs": [
    {
     "name": "stdout",
     "output_type": "stream",
     "text": [
      "Training R-Square = 0.98\n",
      "OOB R-Square = 0.88\n",
      "Testing R-Square = 0.85\n"
     ]
    }
   ],
   "source": [
    "RandFor1 = RandomForestRegressor(n_estimators = 100, max_depth = None, max_features = \"log2\", oob_score = True, \n",
    "                                 n_jobs = -1, random_state = 25).fit(x_train, y_train)\n",
    "\n",
    "RandFor1_yhat = RandFor1.predict(x_test)\n",
    "r2_test1 = r2_score(y_test, RandFor1_yhat)\n",
    "\n",
    "print(\"Training R-Square = %.2f\" % RandFor1.score(x_train, y_train))\n",
    "print(\"OOB R-Square = %.2f\" % RandFor1.oob_score_)\n",
    "print(\"Testing R-Square = %.2f\" % r2_test1)"
   ]
  },
  {
   "cell_type": "markdown",
   "id": "a76dc58e",
   "metadata": {},
   "source": [
    "The model performs well on the testing data despite there being apparent overfitting on the training data."
   ]
  },
  {
   "cell_type": "code",
   "execution_count": 573,
   "id": "d97fe81e",
   "metadata": {},
   "outputs": [],
   "source": [
    "X_features = df_num.drop(\"SalePrice\", axis = 1).columns.to_list()"
   ]
  },
  {
   "cell_type": "code",
   "execution_count": 574,
   "id": "ee086506",
   "metadata": {},
   "outputs": [
    {
     "data": {
      "text/html": [
       "<div>\n",
       "<style scoped>\n",
       "    .dataframe tbody tr th:only-of-type {\n",
       "        vertical-align: middle;\n",
       "    }\n",
       "\n",
       "    .dataframe tbody tr th {\n",
       "        vertical-align: top;\n",
       "    }\n",
       "\n",
       "    .dataframe thead th {\n",
       "        text-align: right;\n",
       "    }\n",
       "</style>\n",
       "<table border=\"1\" class=\"dataframe\">\n",
       "  <thead>\n",
       "    <tr style=\"text-align: right;\">\n",
       "      <th></th>\n",
       "      <th>feature</th>\n",
       "      <th>importance</th>\n",
       "    </tr>\n",
       "  </thead>\n",
       "  <tbody>\n",
       "    <tr>\n",
       "      <th>7</th>\n",
       "      <td>Gr.Liv.Area</td>\n",
       "      <td>0.149865</td>\n",
       "    </tr>\n",
       "    <tr>\n",
       "      <th>5</th>\n",
       "      <td>Total.Bsmt.SF</td>\n",
       "      <td>0.135219</td>\n",
       "    </tr>\n",
       "    <tr>\n",
       "      <th>2</th>\n",
       "      <td>Year.Built</td>\n",
       "      <td>0.131621</td>\n",
       "    </tr>\n",
       "    <tr>\n",
       "      <th>11</th>\n",
       "      <td>Garage.Area</td>\n",
       "      <td>0.121390</td>\n",
       "    </tr>\n",
       "    <tr>\n",
       "      <th>6</th>\n",
       "      <td>X1st.Flr.SF</td>\n",
       "      <td>0.119678</td>\n",
       "    </tr>\n",
       "    <tr>\n",
       "      <th>10</th>\n",
       "      <td>Garage.Cars</td>\n",
       "      <td>0.082550</td>\n",
       "    </tr>\n",
       "    <tr>\n",
       "      <th>3</th>\n",
       "      <td>Year.Remod.Add</td>\n",
       "      <td>0.074196</td>\n",
       "    </tr>\n",
       "    <tr>\n",
       "      <th>9</th>\n",
       "      <td>TotRms.AbvGrd</td>\n",
       "      <td>0.043273</td>\n",
       "    </tr>\n",
       "    <tr>\n",
       "      <th>1</th>\n",
       "      <td>Lot.Area</td>\n",
       "      <td>0.042412</td>\n",
       "    </tr>\n",
       "    <tr>\n",
       "      <th>0</th>\n",
       "      <td>Lot.Frontage</td>\n",
       "      <td>0.033494</td>\n",
       "    </tr>\n",
       "    <tr>\n",
       "      <th>4</th>\n",
       "      <td>Bsmt.Unf.SF</td>\n",
       "      <td>0.025514</td>\n",
       "    </tr>\n",
       "    <tr>\n",
       "      <th>8</th>\n",
       "      <td>Bedroom.AbvGr</td>\n",
       "      <td>0.015410</td>\n",
       "    </tr>\n",
       "    <tr>\n",
       "      <th>12</th>\n",
       "      <td>Yr.Sold</td>\n",
       "      <td>0.006905</td>\n",
       "    </tr>\n",
       "    <tr>\n",
       "      <th>19</th>\n",
       "      <td>Mo.Sold_Jun</td>\n",
       "      <td>0.002258</td>\n",
       "    </tr>\n",
       "    <tr>\n",
       "      <th>18</th>\n",
       "      <td>Mo.Sold_Jul</td>\n",
       "      <td>0.001997</td>\n",
       "    </tr>\n",
       "    <tr>\n",
       "      <th>22</th>\n",
       "      <td>Mo.Sold_Nov</td>\n",
       "      <td>0.001954</td>\n",
       "    </tr>\n",
       "    <tr>\n",
       "      <th>21</th>\n",
       "      <td>Mo.Sold_May</td>\n",
       "      <td>0.001934</td>\n",
       "    </tr>\n",
       "    <tr>\n",
       "      <th>20</th>\n",
       "      <td>Mo.Sold_Mar</td>\n",
       "      <td>0.001451</td>\n",
       "    </tr>\n",
       "    <tr>\n",
       "      <th>13</th>\n",
       "      <td>Mo.Sold_Apr</td>\n",
       "      <td>0.001388</td>\n",
       "    </tr>\n",
       "    <tr>\n",
       "      <th>14</th>\n",
       "      <td>Mo.Sold_Aug</td>\n",
       "      <td>0.001339</td>\n",
       "    </tr>\n",
       "    <tr>\n",
       "      <th>23</th>\n",
       "      <td>Mo.Sold_Oct</td>\n",
       "      <td>0.001315</td>\n",
       "    </tr>\n",
       "    <tr>\n",
       "      <th>17</th>\n",
       "      <td>Mo.Sold_Jan</td>\n",
       "      <td>0.001304</td>\n",
       "    </tr>\n",
       "    <tr>\n",
       "      <th>15</th>\n",
       "      <td>Mo.Sold_Dec</td>\n",
       "      <td>0.001276</td>\n",
       "    </tr>\n",
       "    <tr>\n",
       "      <th>16</th>\n",
       "      <td>Mo.Sold_Feb</td>\n",
       "      <td>0.001182</td>\n",
       "    </tr>\n",
       "    <tr>\n",
       "      <th>24</th>\n",
       "      <td>Mo.Sold_Sep</td>\n",
       "      <td>0.001073</td>\n",
       "    </tr>\n",
       "  </tbody>\n",
       "</table>\n",
       "</div>"
      ],
      "text/plain": [
       "           feature  importance\n",
       "7      Gr.Liv.Area    0.149865\n",
       "5    Total.Bsmt.SF    0.135219\n",
       "2       Year.Built    0.131621\n",
       "11     Garage.Area    0.121390\n",
       "6      X1st.Flr.SF    0.119678\n",
       "10     Garage.Cars    0.082550\n",
       "3   Year.Remod.Add    0.074196\n",
       "9    TotRms.AbvGrd    0.043273\n",
       "1         Lot.Area    0.042412\n",
       "0     Lot.Frontage    0.033494\n",
       "4      Bsmt.Unf.SF    0.025514\n",
       "8    Bedroom.AbvGr    0.015410\n",
       "12         Yr.Sold    0.006905\n",
       "19     Mo.Sold_Jun    0.002258\n",
       "18     Mo.Sold_Jul    0.001997\n",
       "22     Mo.Sold_Nov    0.001954\n",
       "21     Mo.Sold_May    0.001934\n",
       "20     Mo.Sold_Mar    0.001451\n",
       "13     Mo.Sold_Apr    0.001388\n",
       "14     Mo.Sold_Aug    0.001339\n",
       "23     Mo.Sold_Oct    0.001315\n",
       "17     Mo.Sold_Jan    0.001304\n",
       "15     Mo.Sold_Dec    0.001276\n",
       "16     Mo.Sold_Feb    0.001182\n",
       "24     Mo.Sold_Sep    0.001073"
      ]
     },
     "execution_count": 574,
     "metadata": {},
     "output_type": "execute_result"
    }
   ],
   "source": [
    "df_feature_importances1 = pd.DataFrame({\"feature\" : X_features,\n",
    "                                        \"importance\" : RandFor1.feature_importances_})\n",
    "\n",
    "df_feature_importances1.sort_values(\"importance\", ascending = False)"
   ]
  },
  {
   "cell_type": "markdown",
   "id": "3cf1bad7",
   "metadata": {},
   "source": [
    "~70% of the reduction in model impurity was determined by 6 variables: Garage.Cars, Gr.Liv.Area, Total.Bsmt.SF, Year.Built, Garage.Area, and X1st.Flr.SF. "
   ]
  },
  {
   "cell_type": "markdown",
   "id": "1c08c195",
   "metadata": {},
   "source": [
    "#### Train model using standardized training data"
   ]
  },
  {
   "cell_type": "code",
   "execution_count": 575,
   "id": "0a2f0603",
   "metadata": {},
   "outputs": [
    {
     "name": "stdout",
     "output_type": "stream",
     "text": [
      "Scaled Training R-Squared = 0.98\n",
      "OOB-Squared = 0.87\n",
      "Scaled Testing R-Squared = 0.85\n"
     ]
    }
   ],
   "source": [
    "RandFor2 = RandomForestRegressor(n_estimators = 100, max_depth = None, max_features = \"log2\", oob_score = True, \n",
    "                                 n_jobs = -1, random_state = 25).fit(x_train_scale, y_train)\n",
    "\n",
    "RandFor2_yhat = RandFor2.predict(x_test_scale)\n",
    "r2_test2 = r2_score(y_test, RandFor2_yhat)\n",
    "\n",
    "print(\"Scaled Training R-Squared = %.2f\" % RandFor2.score(x_train_scale, y_train))\n",
    "print(\"OOB-Squared = %.2f\" % RandFor2.oob_score_)\n",
    "print(\"Scaled Testing R-Squared = %.2f\" % r2_test2)"
   ]
  },
  {
   "cell_type": "code",
   "execution_count": 576,
   "id": "a547d2aa",
   "metadata": {},
   "outputs": [
    {
     "data": {
      "text/html": [
       "<div>\n",
       "<style scoped>\n",
       "    .dataframe tbody tr th:only-of-type {\n",
       "        vertical-align: middle;\n",
       "    }\n",
       "\n",
       "    .dataframe tbody tr th {\n",
       "        vertical-align: top;\n",
       "    }\n",
       "\n",
       "    .dataframe thead th {\n",
       "        text-align: right;\n",
       "    }\n",
       "</style>\n",
       "<table border=\"1\" class=\"dataframe\">\n",
       "  <thead>\n",
       "    <tr style=\"text-align: right;\">\n",
       "      <th></th>\n",
       "      <th>feature</th>\n",
       "      <th>importance</th>\n",
       "    </tr>\n",
       "  </thead>\n",
       "  <tbody>\n",
       "    <tr>\n",
       "      <th>7</th>\n",
       "      <td>Gr.Liv.Area</td>\n",
       "      <td>0.149865</td>\n",
       "    </tr>\n",
       "    <tr>\n",
       "      <th>5</th>\n",
       "      <td>Total.Bsmt.SF</td>\n",
       "      <td>0.135219</td>\n",
       "    </tr>\n",
       "    <tr>\n",
       "      <th>2</th>\n",
       "      <td>Year.Built</td>\n",
       "      <td>0.131621</td>\n",
       "    </tr>\n",
       "    <tr>\n",
       "      <th>11</th>\n",
       "      <td>Garage.Area</td>\n",
       "      <td>0.121390</td>\n",
       "    </tr>\n",
       "    <tr>\n",
       "      <th>6</th>\n",
       "      <td>X1st.Flr.SF</td>\n",
       "      <td>0.119678</td>\n",
       "    </tr>\n",
       "    <tr>\n",
       "      <th>10</th>\n",
       "      <td>Garage.Cars</td>\n",
       "      <td>0.082550</td>\n",
       "    </tr>\n",
       "    <tr>\n",
       "      <th>3</th>\n",
       "      <td>Year.Remod.Add</td>\n",
       "      <td>0.074196</td>\n",
       "    </tr>\n",
       "    <tr>\n",
       "      <th>9</th>\n",
       "      <td>TotRms.AbvGrd</td>\n",
       "      <td>0.043273</td>\n",
       "    </tr>\n",
       "    <tr>\n",
       "      <th>1</th>\n",
       "      <td>Lot.Area</td>\n",
       "      <td>0.042412</td>\n",
       "    </tr>\n",
       "    <tr>\n",
       "      <th>0</th>\n",
       "      <td>Lot.Frontage</td>\n",
       "      <td>0.033494</td>\n",
       "    </tr>\n",
       "    <tr>\n",
       "      <th>4</th>\n",
       "      <td>Bsmt.Unf.SF</td>\n",
       "      <td>0.025514</td>\n",
       "    </tr>\n",
       "    <tr>\n",
       "      <th>8</th>\n",
       "      <td>Bedroom.AbvGr</td>\n",
       "      <td>0.015410</td>\n",
       "    </tr>\n",
       "    <tr>\n",
       "      <th>12</th>\n",
       "      <td>Yr.Sold</td>\n",
       "      <td>0.006905</td>\n",
       "    </tr>\n",
       "    <tr>\n",
       "      <th>19</th>\n",
       "      <td>Mo.Sold_Jun</td>\n",
       "      <td>0.002258</td>\n",
       "    </tr>\n",
       "    <tr>\n",
       "      <th>18</th>\n",
       "      <td>Mo.Sold_Jul</td>\n",
       "      <td>0.001997</td>\n",
       "    </tr>\n",
       "    <tr>\n",
       "      <th>22</th>\n",
       "      <td>Mo.Sold_Nov</td>\n",
       "      <td>0.001954</td>\n",
       "    </tr>\n",
       "    <tr>\n",
       "      <th>21</th>\n",
       "      <td>Mo.Sold_May</td>\n",
       "      <td>0.001934</td>\n",
       "    </tr>\n",
       "    <tr>\n",
       "      <th>20</th>\n",
       "      <td>Mo.Sold_Mar</td>\n",
       "      <td>0.001451</td>\n",
       "    </tr>\n",
       "    <tr>\n",
       "      <th>13</th>\n",
       "      <td>Mo.Sold_Apr</td>\n",
       "      <td>0.001388</td>\n",
       "    </tr>\n",
       "    <tr>\n",
       "      <th>14</th>\n",
       "      <td>Mo.Sold_Aug</td>\n",
       "      <td>0.001339</td>\n",
       "    </tr>\n",
       "    <tr>\n",
       "      <th>23</th>\n",
       "      <td>Mo.Sold_Oct</td>\n",
       "      <td>0.001315</td>\n",
       "    </tr>\n",
       "    <tr>\n",
       "      <th>17</th>\n",
       "      <td>Mo.Sold_Jan</td>\n",
       "      <td>0.001304</td>\n",
       "    </tr>\n",
       "    <tr>\n",
       "      <th>15</th>\n",
       "      <td>Mo.Sold_Dec</td>\n",
       "      <td>0.001276</td>\n",
       "    </tr>\n",
       "    <tr>\n",
       "      <th>16</th>\n",
       "      <td>Mo.Sold_Feb</td>\n",
       "      <td>0.001182</td>\n",
       "    </tr>\n",
       "    <tr>\n",
       "      <th>24</th>\n",
       "      <td>Mo.Sold_Sep</td>\n",
       "      <td>0.001073</td>\n",
       "    </tr>\n",
       "  </tbody>\n",
       "</table>\n",
       "</div>"
      ],
      "text/plain": [
       "           feature  importance\n",
       "7      Gr.Liv.Area    0.149865\n",
       "5    Total.Bsmt.SF    0.135219\n",
       "2       Year.Built    0.131621\n",
       "11     Garage.Area    0.121390\n",
       "6      X1st.Flr.SF    0.119678\n",
       "10     Garage.Cars    0.082550\n",
       "3   Year.Remod.Add    0.074196\n",
       "9    TotRms.AbvGrd    0.043273\n",
       "1         Lot.Area    0.042412\n",
       "0     Lot.Frontage    0.033494\n",
       "4      Bsmt.Unf.SF    0.025514\n",
       "8    Bedroom.AbvGr    0.015410\n",
       "12         Yr.Sold    0.006905\n",
       "19     Mo.Sold_Jun    0.002258\n",
       "18     Mo.Sold_Jul    0.001997\n",
       "22     Mo.Sold_Nov    0.001954\n",
       "21     Mo.Sold_May    0.001934\n",
       "20     Mo.Sold_Mar    0.001451\n",
       "13     Mo.Sold_Apr    0.001388\n",
       "14     Mo.Sold_Aug    0.001339\n",
       "23     Mo.Sold_Oct    0.001315\n",
       "17     Mo.Sold_Jan    0.001304\n",
       "15     Mo.Sold_Dec    0.001276\n",
       "16     Mo.Sold_Feb    0.001182\n",
       "24     Mo.Sold_Sep    0.001073"
      ]
     },
     "execution_count": 576,
     "metadata": {},
     "output_type": "execute_result"
    }
   ],
   "source": [
    "df_feature_importances2 = pd.DataFrame({\"feature\" : X_features,\n",
    "                                      \"importance\" : RandFor2.feature_importances_})\n",
    "\n",
    "df_feature_importances2.sort_values(\"importance\", ascending = False)"
   ]
  },
  {
   "cell_type": "markdown",
   "id": "d96da592",
   "metadata": {},
   "source": [
    "The R-Square results and feature importances for the model with scaled feature data is nearly identical to the non-scaled data. The is because the Random Forest regression algorithm is very flexible and able to handle features with various scales. "
   ]
  },
  {
   "cell_type": "markdown",
   "id": "c4b5292b",
   "metadata": {},
   "source": [
    "## AdaBoost Regression"
   ]
  },
  {
   "cell_type": "markdown",
   "id": "679d430a",
   "metadata": {},
   "source": [
    "Train ada boost regression model and set hyperparameters such that the boosted ensemble is built from a DecisionTreeRegressor with max_depth of 3 (base_estimator), there are a maximum of 100 estimators at which the boosting is terminated (n_estimators), and the learning rate is 1 (learning_rate) "
   ]
  },
  {
   "cell_type": "code",
   "execution_count": 577,
   "id": "39a7bb39",
   "metadata": {},
   "outputs": [],
   "source": [
    "from sklearn.ensemble import AdaBoostRegressor"
   ]
  },
  {
   "cell_type": "markdown",
   "id": "7ce13d97",
   "metadata": {},
   "source": [
    "#### Train model using unstandardized training data"
   ]
  },
  {
   "cell_type": "code",
   "execution_count": 578,
   "id": "614d83fa",
   "metadata": {},
   "outputs": [
    {
     "name": "stdout",
     "output_type": "stream",
     "text": [
      "Training R-Squared = 0.87\n",
      "Testing R-Squared = 0.81\n"
     ]
    }
   ],
   "source": [
    "AdaBoost1 = AdaBoostRegressor(base_estimator = None, n_estimators = 100, learning_rate = 1).fit(x_train, y_train)\n",
    "\n",
    "AdaBoost1_yhat = AdaBoost1.predict(x_test)\n",
    "r2_test_boost1 = r2_score(y_test, AdaBoost1_yhat)\n",
    "\n",
    "print(\"Training R-Squared = %.2f\" % AdaBoost1.score(x_train, y_train))\n",
    "print(\"Testing R-Squared = %.2f\" % r2_test_boost1)"
   ]
  },
  {
   "cell_type": "markdown",
   "id": "7d037ef8",
   "metadata": {},
   "source": [
    "The model explains a significant amount of the variation in the testing set without much overfitting on the training set. "
   ]
  },
  {
   "cell_type": "code",
   "execution_count": 579,
   "id": "47ac0dea",
   "metadata": {},
   "outputs": [
    {
     "data": {
      "text/html": [
       "<div>\n",
       "<style scoped>\n",
       "    .dataframe tbody tr th:only-of-type {\n",
       "        vertical-align: middle;\n",
       "    }\n",
       "\n",
       "    .dataframe tbody tr th {\n",
       "        vertical-align: top;\n",
       "    }\n",
       "\n",
       "    .dataframe thead th {\n",
       "        text-align: right;\n",
       "    }\n",
       "</style>\n",
       "<table border=\"1\" class=\"dataframe\">\n",
       "  <thead>\n",
       "    <tr style=\"text-align: right;\">\n",
       "      <th></th>\n",
       "      <th>feature</th>\n",
       "      <th>importance</th>\n",
       "    </tr>\n",
       "  </thead>\n",
       "  <tbody>\n",
       "    <tr>\n",
       "      <th>7</th>\n",
       "      <td>Gr.Liv.Area</td>\n",
       "      <td>0.287799</td>\n",
       "    </tr>\n",
       "    <tr>\n",
       "      <th>2</th>\n",
       "      <td>Year.Built</td>\n",
       "      <td>0.171417</td>\n",
       "    </tr>\n",
       "    <tr>\n",
       "      <th>5</th>\n",
       "      <td>Total.Bsmt.SF</td>\n",
       "      <td>0.156900</td>\n",
       "    </tr>\n",
       "    <tr>\n",
       "      <th>10</th>\n",
       "      <td>Garage.Cars</td>\n",
       "      <td>0.117155</td>\n",
       "    </tr>\n",
       "    <tr>\n",
       "      <th>6</th>\n",
       "      <td>X1st.Flr.SF</td>\n",
       "      <td>0.085690</td>\n",
       "    </tr>\n",
       "    <tr>\n",
       "      <th>3</th>\n",
       "      <td>Year.Remod.Add</td>\n",
       "      <td>0.041036</td>\n",
       "    </tr>\n",
       "    <tr>\n",
       "      <th>11</th>\n",
       "      <td>Garage.Area</td>\n",
       "      <td>0.036762</td>\n",
       "    </tr>\n",
       "    <tr>\n",
       "      <th>1</th>\n",
       "      <td>Lot.Area</td>\n",
       "      <td>0.033699</td>\n",
       "    </tr>\n",
       "    <tr>\n",
       "      <th>0</th>\n",
       "      <td>Lot.Frontage</td>\n",
       "      <td>0.027017</td>\n",
       "    </tr>\n",
       "    <tr>\n",
       "      <th>4</th>\n",
       "      <td>Bsmt.Unf.SF</td>\n",
       "      <td>0.017043</td>\n",
       "    </tr>\n",
       "    <tr>\n",
       "      <th>9</th>\n",
       "      <td>TotRms.AbvGrd</td>\n",
       "      <td>0.013133</td>\n",
       "    </tr>\n",
       "    <tr>\n",
       "      <th>8</th>\n",
       "      <td>Bedroom.AbvGr</td>\n",
       "      <td>0.006177</td>\n",
       "    </tr>\n",
       "    <tr>\n",
       "      <th>24</th>\n",
       "      <td>Mo.Sold_Sep</td>\n",
       "      <td>0.001492</td>\n",
       "    </tr>\n",
       "    <tr>\n",
       "      <th>17</th>\n",
       "      <td>Mo.Sold_Jan</td>\n",
       "      <td>0.000864</td>\n",
       "    </tr>\n",
       "    <tr>\n",
       "      <th>23</th>\n",
       "      <td>Mo.Sold_Oct</td>\n",
       "      <td>0.000850</td>\n",
       "    </tr>\n",
       "    <tr>\n",
       "      <th>22</th>\n",
       "      <td>Mo.Sold_Nov</td>\n",
       "      <td>0.000847</td>\n",
       "    </tr>\n",
       "    <tr>\n",
       "      <th>19</th>\n",
       "      <td>Mo.Sold_Jun</td>\n",
       "      <td>0.000651</td>\n",
       "    </tr>\n",
       "    <tr>\n",
       "      <th>18</th>\n",
       "      <td>Mo.Sold_Jul</td>\n",
       "      <td>0.000553</td>\n",
       "    </tr>\n",
       "    <tr>\n",
       "      <th>14</th>\n",
       "      <td>Mo.Sold_Aug</td>\n",
       "      <td>0.000498</td>\n",
       "    </tr>\n",
       "    <tr>\n",
       "      <th>12</th>\n",
       "      <td>Yr.Sold</td>\n",
       "      <td>0.000414</td>\n",
       "    </tr>\n",
       "    <tr>\n",
       "      <th>13</th>\n",
       "      <td>Mo.Sold_Apr</td>\n",
       "      <td>0.000000</td>\n",
       "    </tr>\n",
       "    <tr>\n",
       "      <th>15</th>\n",
       "      <td>Mo.Sold_Dec</td>\n",
       "      <td>0.000000</td>\n",
       "    </tr>\n",
       "    <tr>\n",
       "      <th>16</th>\n",
       "      <td>Mo.Sold_Feb</td>\n",
       "      <td>0.000000</td>\n",
       "    </tr>\n",
       "    <tr>\n",
       "      <th>20</th>\n",
       "      <td>Mo.Sold_Mar</td>\n",
       "      <td>0.000000</td>\n",
       "    </tr>\n",
       "    <tr>\n",
       "      <th>21</th>\n",
       "      <td>Mo.Sold_May</td>\n",
       "      <td>0.000000</td>\n",
       "    </tr>\n",
       "  </tbody>\n",
       "</table>\n",
       "</div>"
      ],
      "text/plain": [
       "           feature  importance\n",
       "7      Gr.Liv.Area    0.287799\n",
       "2       Year.Built    0.171417\n",
       "5    Total.Bsmt.SF    0.156900\n",
       "10     Garage.Cars    0.117155\n",
       "6      X1st.Flr.SF    0.085690\n",
       "3   Year.Remod.Add    0.041036\n",
       "11     Garage.Area    0.036762\n",
       "1         Lot.Area    0.033699\n",
       "0     Lot.Frontage    0.027017\n",
       "4      Bsmt.Unf.SF    0.017043\n",
       "9    TotRms.AbvGrd    0.013133\n",
       "8    Bedroom.AbvGr    0.006177\n",
       "24     Mo.Sold_Sep    0.001492\n",
       "17     Mo.Sold_Jan    0.000864\n",
       "23     Mo.Sold_Oct    0.000850\n",
       "22     Mo.Sold_Nov    0.000847\n",
       "19     Mo.Sold_Jun    0.000651\n",
       "18     Mo.Sold_Jul    0.000553\n",
       "14     Mo.Sold_Aug    0.000498\n",
       "12         Yr.Sold    0.000414\n",
       "13     Mo.Sold_Apr    0.000000\n",
       "15     Mo.Sold_Dec    0.000000\n",
       "16     Mo.Sold_Feb    0.000000\n",
       "20     Mo.Sold_Mar    0.000000\n",
       "21     Mo.Sold_May    0.000000"
      ]
     },
     "execution_count": 579,
     "metadata": {},
     "output_type": "execute_result"
    }
   ],
   "source": [
    "df_feature_importances_boost1 = pd.DataFrame({\"feature\" : X_features,\n",
    "                                              \"importance\" : AdaBoost1.feature_importances_})\n",
    "\n",
    "df_feature_importances_boost1.sort_values(\"importance\", ascending = False)"
   ]
  },
  {
   "cell_type": "markdown",
   "id": "9d0f72fa",
   "metadata": {},
   "source": [
    "5 features account for ~80% of the impurity reduction"
   ]
  },
  {
   "cell_type": "markdown",
   "id": "f457b723",
   "metadata": {},
   "source": [
    "#### Train model using unstandardized PCA training data"
   ]
  },
  {
   "cell_type": "code",
   "execution_count": 580,
   "id": "545ecd6e",
   "metadata": {},
   "outputs": [
    {
     "name": "stdout",
     "output_type": "stream",
     "text": [
      "Training R-Squared = 0.19\n",
      "Testing R-Squared = 0.22\n"
     ]
    }
   ],
   "source": [
    "AdaBoost2 = AdaBoostRegressor(base_estimator = None, n_estimators = 100, learning_rate = 1).fit(x_train_pca, y_train)\n",
    "\n",
    "AdaBoost2_yhat = AdaBoost2.predict(x_test_pca)\n",
    "r2_test_boost2 = r2_score(y_test, AdaBoost2_yhat)\n",
    "\n",
    "print(\"Training R-Squared = %.2f\" % AdaBoost2.score(x_train_pca, y_train))\n",
    "print(\"Testing R-Squared = %.2f\" % r2_test_boost2)"
   ]
  },
  {
   "cell_type": "markdown",
   "id": "9d0841c8",
   "metadata": {},
   "source": [
    "Despite determining 80% of the variation in the data, the 1 variable from the PCA feature reduction is not good at predicting home sale price."
   ]
  },
  {
   "cell_type": "markdown",
   "id": "a47af377",
   "metadata": {},
   "source": [
    "## Conclusion\n",
    "The Random Forest Regression model that was trained on the unstandardized and non-reduced training data appears to be the most predictive of home Sale Price, with 85% of the variation in Sale Price being explained by the model's features. This data would be useful for real estate investors and homebuyers who are interested in residential real estate in Ames, Iowa. Investors can use this model to find undervalued and overvalued homes in order to find investment arbitrage, and homebuyers can use this model during the home buying and negotiation process to determine if the homes they are interested in are accurately priced. "
   ]
  }
 ],
 "metadata": {
  "kernelspec": {
   "display_name": "Python 3 (ipykernel)",
   "language": "python",
   "name": "python3"
  },
  "language_info": {
   "codemirror_mode": {
    "name": "ipython",
    "version": 3
   },
   "file_extension": ".py",
   "mimetype": "text/x-python",
   "name": "python",
   "nbconvert_exporter": "python",
   "pygments_lexer": "ipython3",
   "version": "3.9.7"
  }
 },
 "nbformat": 4,
 "nbformat_minor": 5
}
